{
 "cells": [
  {
   "cell_type": "code",
   "execution_count": 2,
   "id": "4c9694f7-53da-49c4-8f0b-368ad5891bd6",
   "metadata": {},
   "outputs": [
    {
     "name": "stderr",
     "output_type": "stream",
     "text": [
      "\u001b[32m\u001b[1m  Activating\u001b[22m\u001b[39m new project at `~/Python_C_ML/Translational Neuromodeling/Project/Project_8/Classification_and_Regression_DCM`\n",
      "\u001b[32m\u001b[1m   Resolving\u001b[22m\u001b[39m package versions...\n",
      "\u001b[32m\u001b[1m    Updating\u001b[22m\u001b[39m `~/Python_C_ML/Translational Neuromodeling/Project/Project_8/Classification_and_Regression_DCM/Project.toml`\n",
      "  \u001b[90m[324d7699] \u001b[39m\u001b[92m+ CategoricalArrays v0.10.8\u001b[39m\n",
      "\u001b[32m\u001b[1m    Updating\u001b[22m\u001b[39m `~/Python_C_ML/Translational Neuromodeling/Project/Project_8/Classification_and_Regression_DCM/Manifest.toml`\n",
      "  \u001b[90m[324d7699] \u001b[39m\u001b[92m+ CategoricalArrays v0.10.8\u001b[39m\n",
      "  \u001b[90m[9a962f9c] \u001b[39m\u001b[92m+ DataAPI v1.16.0\u001b[39m\n",
      "  \u001b[90m[e1d29d7a] \u001b[39m\u001b[92m+ Missings v1.2.0\u001b[39m\n",
      "  \u001b[90m[ae029012] \u001b[39m\u001b[92m+ Requires v1.3.1\u001b[39m\n",
      "  \u001b[90m[10745b16] \u001b[39m\u001b[92m+ Statistics v1.11.1\u001b[39m\n",
      "  \u001b[90m[56f22d72] \u001b[39m\u001b[92m+ Artifacts v1.11.0\u001b[39m\n",
      "  \u001b[90m[9fa8497b] \u001b[39m\u001b[92m+ Future v1.11.0\u001b[39m\n",
      "  \u001b[90m[8f399da3] \u001b[39m\u001b[92m+ Libdl v1.11.0\u001b[39m\n",
      "  \u001b[90m[37e2e46d] \u001b[39m\u001b[92m+ LinearAlgebra v1.11.0\u001b[39m\n",
      "  \u001b[90m[de0858da] \u001b[39m\u001b[92m+ Printf v1.11.0\u001b[39m\n",
      "  \u001b[90m[9a3f8284] \u001b[39m\u001b[92m+ Random v1.11.0\u001b[39m\n",
      "  \u001b[90m[ea8e919c] \u001b[39m\u001b[92m+ SHA v0.7.0\u001b[39m\n",
      "  \u001b[90m[cf7118a7] \u001b[39m\u001b[92m+ UUIDs v1.11.0\u001b[39m\n",
      "  \u001b[90m[4ec0a83e] \u001b[39m\u001b[92m+ Unicode v1.11.0\u001b[39m\n",
      "  \u001b[90m[e66e0078] \u001b[39m\u001b[92m+ CompilerSupportLibraries_jll v1.1.1+0\u001b[39m\n",
      "  \u001b[90m[4536629a] \u001b[39m\u001b[92m+ OpenBLAS_jll v0.3.27+1\u001b[39m\n",
      "  \u001b[90m[8e850b90] \u001b[39m\u001b[92m+ libblastrampoline_jll v5.11.0+0\u001b[39m\n",
      "\u001b[32m\u001b[1m   Resolving\u001b[22m\u001b[39m package versions...\n",
      "\u001b[32m\u001b[1m    Updating\u001b[22m\u001b[39m `~/Python_C_ML/Translational Neuromodeling/Project/Project_8/Classification_and_Regression_DCM/Project.toml`\n",
      "  \u001b[90m[23992714] \u001b[39m\u001b[92m+ MAT v0.10.7\u001b[39m\n",
      "\u001b[32m\u001b[1m    Updating\u001b[22m\u001b[39m `~/Python_C_ML/Translational Neuromodeling/Project/Project_8/Classification_and_Regression_DCM/Manifest.toml`\n",
      "  \u001b[90m[e1450e63] \u001b[39m\u001b[92m+ BufferedStreams v1.2.2\u001b[39m\n",
      "  \u001b[90m[944b1d66] \u001b[39m\u001b[92m+ CodecZlib v0.7.8\u001b[39m\n",
      "  \u001b[90m[34da2185] \u001b[39m\u001b[92m+ Compat v4.16.0\u001b[39m\n",
      "  \u001b[90m[f67ccb44] \u001b[39m\u001b[92m+ HDF5 v0.17.2\u001b[39m\n",
      "  \u001b[90m[692b3bcd] \u001b[39m\u001b[92m+ JLLWrappers v1.7.0\u001b[39m\n",
      "  \u001b[90m[23992714] \u001b[39m\u001b[92m+ MAT v0.10.7\u001b[39m\n",
      "  \u001b[90m[3da0fdf6] \u001b[39m\u001b[92m+ MPIPreferences v0.1.11\u001b[39m\n",
      "  \u001b[90m[21216c6a] \u001b[39m\u001b[92m+ Preferences v1.4.3\u001b[39m\n",
      "  \u001b[90m[3bb67fe8] \u001b[39m\u001b[92m+ TranscodingStreams v0.11.3\u001b[39m\n",
      "  \u001b[90m[0234f1f7] \u001b[39m\u001b[92m+ HDF5_jll v1.14.6+0\u001b[39m\n",
      "  \u001b[90m[e33a78d0] \u001b[39m\u001b[92m+ Hwloc_jll v2.12.1+0\u001b[39m\n",
      "  \u001b[90m[7cb0a576] \u001b[39m\u001b[92m+ MPICH_jll v4.3.0+1\u001b[39m\n",
      "  \u001b[90m[f1f71cc9] \u001b[39m\u001b[92m+ MPItrampoline_jll v5.5.3+0\u001b[39m\n",
      "  \u001b[90m[9237b28f] \u001b[39m\u001b[92m+ MicrosoftMPI_jll v10.1.4+3\u001b[39m\n",
      "  \u001b[90m[fe0851c0] \u001b[39m\u001b[92m+ OpenMPI_jll v5.0.7+2\u001b[39m\n",
      "  \u001b[90m[458c3c95] \u001b[39m\u001b[92m+ OpenSSL_jll v3.5.0+0\u001b[39m\n",
      "  \u001b[90m[477f73a3] \u001b[39m\u001b[92m+ libaec_jll v1.1.3+0\u001b[39m\n",
      "  \u001b[90m[0dad84c5] \u001b[39m\u001b[92m+ ArgTools v1.1.2\u001b[39m\n",
      "  \u001b[90m[2a0f44e3] \u001b[39m\u001b[92m+ Base64 v1.11.0\u001b[39m\n",
      "  \u001b[90m[ade2ca70] \u001b[39m\u001b[92m+ Dates v1.11.0\u001b[39m\n",
      "  \u001b[90m[f43a241f] \u001b[39m\u001b[92m+ Downloads v1.6.0\u001b[39m\n",
      "  \u001b[90m[7b1f6079] \u001b[39m\u001b[92m+ FileWatching v1.11.0\u001b[39m\n",
      "  \u001b[90m[4af54fe1] \u001b[39m\u001b[92m+ LazyArtifacts v1.11.0\u001b[39m\n",
      "  \u001b[90m[b27032c2] \u001b[39m\u001b[92m+ LibCURL v0.6.4\u001b[39m\n",
      "  \u001b[90m[76f85450] \u001b[39m\u001b[92m+ LibGit2 v1.11.0\u001b[39m\n",
      "  \u001b[90m[56ddb016] \u001b[39m\u001b[92m+ Logging v1.11.0\u001b[39m\n",
      "  \u001b[90m[d6f4376e] \u001b[39m\u001b[92m+ Markdown v1.11.0\u001b[39m\n",
      "  \u001b[90m[a63ad114] \u001b[39m\u001b[92m+ Mmap v1.11.0\u001b[39m\n",
      "  \u001b[90m[ca575930] \u001b[39m\u001b[92m+ NetworkOptions v1.2.0\u001b[39m\n",
      "  \u001b[90m[44cfe95a] \u001b[39m\u001b[92m+ Pkg v1.11.0\u001b[39m\n",
      "  \u001b[90m[9e88b42a] \u001b[39m\u001b[92m+ Serialization v1.11.0\u001b[39m\n",
      "  \u001b[90m[2f01184e] \u001b[39m\u001b[92m+ SparseArrays v1.11.0\u001b[39m\n",
      "  \u001b[90m[fa267f1f] \u001b[39m\u001b[92m+ TOML v1.0.3\u001b[39m\n",
      "  \u001b[90m[a4e569a6] \u001b[39m\u001b[92m+ Tar v1.10.0\u001b[39m\n",
      "  \u001b[90m[deac9b47] \u001b[39m\u001b[92m+ LibCURL_jll v8.6.0+0\u001b[39m\n",
      "  \u001b[90m[e37daf67] \u001b[39m\u001b[92m+ LibGit2_jll v1.7.2+0\u001b[39m\n",
      "  \u001b[90m[29816b5a] \u001b[39m\u001b[92m+ LibSSH2_jll v1.11.0+1\u001b[39m\n",
      "  \u001b[90m[c8ffd9c3] \u001b[39m\u001b[92m+ MbedTLS_jll v2.28.6+0\u001b[39m\n",
      "  \u001b[90m[14a3606d] \u001b[39m\u001b[92m+ MozillaCACerts_jll v2023.12.12\u001b[39m\n",
      "  \u001b[90m[bea87d4a] \u001b[39m\u001b[92m+ SuiteSparse_jll v7.7.0+0\u001b[39m\n",
      "  \u001b[90m[83775a58] \u001b[39m\u001b[92m+ Zlib_jll v1.2.13+1\u001b[39m\n",
      "  \u001b[90m[8e850ede] \u001b[39m\u001b[92m+ nghttp2_jll v1.59.0+0\u001b[39m\n",
      "  \u001b[90m[3f19e933] \u001b[39m\u001b[92m+ p7zip_jll v17.4.0+2\u001b[39m\n",
      "\u001b[32m\u001b[1m   Resolving\u001b[22m\u001b[39m package versions...\n",
      "\u001b[32m\u001b[1m    Updating\u001b[22m\u001b[39m `~/Python_C_ML/Translational Neuromodeling/Project/Project_8/Classification_and_Regression_DCM/Project.toml`\n",
      "  \u001b[90m[a93c6f00] \u001b[39m\u001b[92m+ DataFrames v1.7.0\u001b[39m\n",
      "\u001b[32m\u001b[1m    Updating\u001b[22m\u001b[39m `~/Python_C_ML/Translational Neuromodeling/Project/Project_8/Classification_and_Regression_DCM/Manifest.toml`\n",
      "  \u001b[90m[a8cc5b0e] \u001b[39m\u001b[92m+ Crayons v4.1.1\u001b[39m\n",
      "  \u001b[90m[a93c6f00] \u001b[39m\u001b[92m+ DataFrames v1.7.0\u001b[39m\n",
      "  \u001b[90m[864edb3b] \u001b[39m\u001b[92m+ DataStructures v0.18.22\u001b[39m\n",
      "  \u001b[90m[e2d170a0] \u001b[39m\u001b[92m+ DataValueInterfaces v1.0.0\u001b[39m\n",
      "  \u001b[90m[842dd82b] \u001b[39m\u001b[92m+ InlineStrings v1.4.3\u001b[39m\n",
      "  \u001b[90m[41ab1584] \u001b[39m\u001b[92m+ InvertedIndices v1.3.1\u001b[39m\n",
      "  \u001b[90m[82899510] \u001b[39m\u001b[92m+ IteratorInterfaceExtensions v1.0.0\u001b[39m\n",
      "  \u001b[90m[b964fa9f] \u001b[39m\u001b[92m+ LaTeXStrings v1.4.0\u001b[39m\n",
      "  \u001b[90m[bac558e1] \u001b[39m\u001b[92m+ OrderedCollections v1.8.1\u001b[39m\n",
      "  \u001b[90m[2dfb63ee] \u001b[39m\u001b[92m+ PooledArrays v1.4.3\u001b[39m\n",
      "\u001b[33m⌅\u001b[39m \u001b[90m[aea7be01] \u001b[39m\u001b[92m+ PrecompileTools v1.2.1\u001b[39m\n",
      "  \u001b[90m[08abe8d2] \u001b[39m\u001b[92m+ PrettyTables v2.4.0\u001b[39m\n",
      "  \u001b[90m[189a3867] \u001b[39m\u001b[92m+ Reexport v1.2.2\u001b[39m\n",
      "  \u001b[90m[91c51154] \u001b[39m\u001b[92m+ SentinelArrays v1.4.8\u001b[39m\n",
      "  \u001b[90m[a2af1166] \u001b[39m\u001b[92m+ SortingAlgorithms v1.2.1\u001b[39m\n",
      "  \u001b[90m[892a3eda] \u001b[39m\u001b[92m+ StringManipulation v0.4.1\u001b[39m\n",
      "  \u001b[90m[3783bdb8] \u001b[39m\u001b[92m+ TableTraits v1.0.1\u001b[39m\n",
      "  \u001b[90m[bd369af6] \u001b[39m\u001b[92m+ Tables v1.12.0\u001b[39m\n",
      "  \u001b[90m[b77e0a4c] \u001b[39m\u001b[92m+ InteractiveUtils v1.11.0\u001b[39m\n",
      "\u001b[36m\u001b[1m        Info\u001b[22m\u001b[39m Packages marked with \u001b[33m⌅\u001b[39m have new versions available but compatibility constraints restrict them from upgrading. To see why use `status --outdated -m`\n",
      "\u001b[32m\u001b[1m   Resolving\u001b[22m\u001b[39m package versions...\n",
      "\u001b[32m\u001b[1m    Updating\u001b[22m\u001b[39m `~/Python_C_ML/Translational Neuromodeling/Project/Project_8/Classification_and_Regression_DCM/Project.toml`\n",
      "  \u001b[90m[add582a8] \u001b[39m\u001b[92m+ MLJ v0.20.7\u001b[39m\n",
      "\u001b[32m\u001b[1m    Updating\u001b[22m\u001b[39m `~/Python_C_ML/Translational Neuromodeling/Project/Project_8/Classification_and_Regression_DCM/Manifest.toml`\n",
      "  \u001b[90m[da404889] \u001b[39m\u001b[92m+ ARFFFiles v1.5.0\u001b[39m\n",
      "  \u001b[90m[7d9f7c33] \u001b[39m\u001b[92m+ Accessors v0.1.42\u001b[39m\n",
      "  \u001b[90m[79e6a3ab] \u001b[39m\u001b[92m+ Adapt v4.3.0\u001b[39m\n",
      "  \u001b[90m[66dad0bd] \u001b[39m\u001b[92m+ AliasTables v1.1.3\u001b[39m\n",
      "  \u001b[90m[dce04be8] \u001b[39m\u001b[92m+ ArgCheck v2.5.0\u001b[39m\n",
      "  \u001b[90m[a9b6321e] \u001b[39m\u001b[92m+ Atomix v1.1.1\u001b[39m\n",
      "  \u001b[90m[198e06fe] \u001b[39m\u001b[92m+ BangBang v0.4.4\u001b[39m\n",
      "  \u001b[90m[9718e550] \u001b[39m\u001b[92m+ Baselet v0.1.1\u001b[39m\n",
      "  \u001b[90m[d1d4a3ce] \u001b[39m\u001b[92m+ BitFlags v0.1.9\u001b[39m\n",
      "  \u001b[90m[af321ab8] \u001b[39m\u001b[92m+ CategoricalDistributions v0.1.15\u001b[39m\n",
      "  \u001b[90m[d360d2e6] \u001b[39m\u001b[92m+ ChainRulesCore v1.25.1\u001b[39m\n",
      "  \u001b[90m[3da002f7] \u001b[39m\u001b[92m+ ColorTypes v0.12.1\u001b[39m\n",
      "  \u001b[90m[861a8166] \u001b[39m\u001b[92m+ Combinatorics v1.0.3\u001b[39m\n",
      "  \u001b[90m[a33af91c] \u001b[39m\u001b[92m+ CompositionsBase v0.1.2\u001b[39m\n",
      "  \u001b[90m[ed09eef8] \u001b[39m\u001b[92m+ ComputationalResources v0.3.2\u001b[39m\n",
      "  \u001b[90m[f0e56b4a] \u001b[39m\u001b[92m+ ConcurrentUtilities v2.5.0\u001b[39m\n",
      "  \u001b[90m[187b0558] \u001b[39m\u001b[92m+ ConstructionBase v1.5.8\u001b[39m\n",
      "  \u001b[90m[6add18c4] \u001b[39m\u001b[92m+ ContextVariablesX v0.1.3\u001b[39m\n",
      "  \u001b[90m[244e2a9f] \u001b[39m\u001b[92m+ DefineSingletons v0.1.2\u001b[39m\n",
      "  \u001b[90m[8bb1440f] \u001b[39m\u001b[92m+ DelimitedFiles v1.9.1\u001b[39m\n",
      "  \u001b[90m[b4f34e82] \u001b[39m\u001b[92m+ Distances v0.10.12\u001b[39m\n",
      "  \u001b[90m[31c24e10] \u001b[39m\u001b[92m+ Distributions v0.25.120\u001b[39m\n",
      "  \u001b[90m[ffbed154] \u001b[39m\u001b[92m+ DocStringExtensions v0.9.4\u001b[39m\n",
      "  \u001b[90m[792122b4] \u001b[39m\u001b[92m+ EarlyStopping v0.3.0\u001b[39m\n",
      "  \u001b[90m[460bff9d] \u001b[39m\u001b[92m+ ExceptionUnwrapping v0.1.11\u001b[39m\n",
      "  \u001b[90m[cc61a311] \u001b[39m\u001b[92m+ FLoops v0.2.2\u001b[39m\n",
      "  \u001b[90m[b9860ae5] \u001b[39m\u001b[92m+ FLoopsBase v0.1.1\u001b[39m\n",
      "  \u001b[90m[33837fe5] \u001b[39m\u001b[92m+ FeatureSelection v0.2.2\u001b[39m\n",
      "  \u001b[90m[48062228] \u001b[39m\u001b[92m+ FilePathsBase v0.9.24\u001b[39m\n",
      "  \u001b[90m[1a297f60] \u001b[39m\u001b[92m+ FillArrays v1.13.0\u001b[39m\n",
      "  \u001b[90m[53c48c17] \u001b[39m\u001b[92m+ FixedPointNumbers v0.8.5\u001b[39m\n",
      "  \u001b[90m[46192b85] \u001b[39m\u001b[92m+ GPUArraysCore v0.2.0\u001b[39m\n",
      "  \u001b[90m[cd3eb016] \u001b[39m\u001b[92m+ HTTP v1.10.16\u001b[39m\n",
      "  \u001b[90m[076d061b] \u001b[39m\u001b[92m+ HashArrayMappedTries v0.2.0\u001b[39m\n",
      "  \u001b[90m[34004b35] \u001b[39m\u001b[92m+ HypergeometricFunctions v0.3.28\u001b[39m\n",
      "  \u001b[90m[22cec73e] \u001b[39m\u001b[92m+ InitialValues v0.3.1\u001b[39m\n",
      "  \u001b[90m[3587e190] \u001b[39m\u001b[92m+ InverseFunctions v0.1.17\u001b[39m\n",
      "  \u001b[90m[92d709cd] \u001b[39m\u001b[92m+ IrrationalConstants v0.2.4\u001b[39m\n",
      "  \u001b[90m[b3c1a2ee] \u001b[39m\u001b[92m+ IterationControl v0.5.4\u001b[39m\n",
      "  \u001b[90m[682c06a0] \u001b[39m\u001b[92m+ JSON v0.21.4\u001b[39m\n",
      "  \u001b[90m[b14d175d] \u001b[39m\u001b[92m+ JuliaVariables v0.2.4\u001b[39m\n",
      "  \u001b[90m[63c18a36] \u001b[39m\u001b[92m+ KernelAbstractions v0.9.34\u001b[39m\n",
      "  \u001b[90m[a5e1c1ea] \u001b[39m\u001b[92m+ LatinHypercubeSampling v1.9.0\u001b[39m\n",
      "\u001b[33m⌅\u001b[39m \u001b[90m[92ad9a40] \u001b[39m\u001b[92m+ LearnAPI v0.1.0\u001b[39m\n",
      "  \u001b[90m[2ab3a3ac] \u001b[39m\u001b[92m+ LogExpFunctions v0.3.29\u001b[39m\n",
      "  \u001b[90m[e6f89c97] \u001b[39m\u001b[92m+ LoggingExtras v1.1.0\u001b[39m\n",
      "  \u001b[90m[c2834f40] \u001b[39m\u001b[92m+ MLCore v1.0.0\u001b[39m\n",
      "\u001b[33m⌅\u001b[39m \u001b[90m[64a0f543] \u001b[39m\u001b[92m+ MLFlowClient v0.5.1\u001b[39m\n",
      "  \u001b[90m[add582a8] \u001b[39m\u001b[92m+ MLJ v0.20.7\u001b[39m\n",
      "  \u001b[90m[45f359ea] \u001b[39m\u001b[92m+ MLJBalancing v0.1.5\u001b[39m\n",
      "\u001b[32m⌃\u001b[39m \u001b[90m[a7f614a8] \u001b[39m\u001b[92m+ MLJBase v1.7.0\u001b[39m\n",
      "  \u001b[90m[50ed68f4] \u001b[39m\u001b[92m+ MLJEnsembles v0.4.3\u001b[39m\n",
      "  \u001b[90m[7b7b8358] \u001b[39m\u001b[92m+ MLJFlow v0.5.0\u001b[39m\n",
      "  \u001b[90m[614be32b] \u001b[39m\u001b[92m+ MLJIteration v0.6.3\u001b[39m\n",
      "  \u001b[90m[e80e1ace] \u001b[39m\u001b[92m+ MLJModelInterface v1.11.1\u001b[39m\n",
      "  \u001b[90m[d491faf4] \u001b[39m\u001b[92m+ MLJModels v0.17.9\u001b[39m\n",
      "  \u001b[90m[03970b2e] \u001b[39m\u001b[92m+ MLJTuning v0.8.8\u001b[39m\n",
      "  \u001b[90m[d8e11817] \u001b[39m\u001b[92m+ MLStyle v0.4.17\u001b[39m\n",
      "  \u001b[90m[f1d291b0] \u001b[39m\u001b[92m+ MLUtils v0.4.8\u001b[39m\n",
      "  \u001b[90m[1914dd2f] \u001b[39m\u001b[92m+ MacroTools v0.5.16\u001b[39m\n",
      "  \u001b[90m[739be429] \u001b[39m\u001b[92m+ MbedTLS v1.1.9\u001b[39m\n",
      "  \u001b[90m[128add7d] \u001b[39m\u001b[92m+ MicroCollections v0.2.0\u001b[39m\n",
      "  \u001b[90m[872c559c] \u001b[39m\u001b[92m+ NNlib v0.9.30\u001b[39m\n",
      "  \u001b[90m[71a1bf82] \u001b[39m\u001b[92m+ NameResolution v0.1.5\u001b[39m\n",
      "  \u001b[90m[8b6db2d4] \u001b[39m\u001b[92m+ OpenML v0.3.2\u001b[39m\n",
      "  \u001b[90m[4d8831e6] \u001b[39m\u001b[92m+ OpenSSL v1.5.0\u001b[39m\n",
      "  \u001b[90m[90014a1f] \u001b[39m\u001b[92m+ PDMats v0.11.35\u001b[39m\n",
      "  \u001b[90m[d96e819e] \u001b[39m\u001b[92m+ Parameters v0.12.3\u001b[39m\n",
      "  \u001b[90m[69de0a69] \u001b[39m\u001b[92m+ Parsers v2.8.3\u001b[39m\n",
      "  \u001b[90m[8162dcfd] \u001b[39m\u001b[92m+ PrettyPrint v0.2.0\u001b[39m\n",
      "  \u001b[90m[54e16d92] \u001b[39m\u001b[92m+ PrettyPrinting v0.4.2\u001b[39m\n",
      "  \u001b[90m[92933f4c] \u001b[39m\u001b[92m+ ProgressMeter v1.10.4\u001b[39m\n",
      "  \u001b[90m[43287f4e] \u001b[39m\u001b[92m+ PtrArrays v1.3.0\u001b[39m\n",
      "  \u001b[90m[1fd47b50] \u001b[39m\u001b[92m+ QuadGK v2.11.2\u001b[39m\n",
      "  \u001b[90m[3cdcf5f2] \u001b[39m\u001b[92m+ RecipesBase v1.3.4\u001b[39m\n",
      "  \u001b[90m[05181044] \u001b[39m\u001b[92m+ RelocatableFolders v1.0.1\u001b[39m\n",
      "  \u001b[90m[79098fc4] \u001b[39m\u001b[92m+ Rmath v0.8.0\u001b[39m\n",
      "  \u001b[90m[321657f4] \u001b[39m\u001b[92m+ ScientificTypes v3.1.0\u001b[39m\n",
      "  \u001b[90m[30f210dd] \u001b[39m\u001b[92m+ ScientificTypesBase v3.0.0\u001b[39m\n",
      "  \u001b[90m[7e506255] \u001b[39m\u001b[92m+ ScopedValues v1.3.0\u001b[39m\n",
      "  \u001b[90m[6c6a2e73] \u001b[39m\u001b[92m+ Scratch v1.2.1\u001b[39m\n",
      "  \u001b[90m[efcf1570] \u001b[39m\u001b[92m+ Setfield v1.1.2\u001b[39m\n",
      "  \u001b[90m[605ecd9f] \u001b[39m\u001b[92m+ ShowCases v0.1.0\u001b[39m\n",
      "  \u001b[90m[777ac1f9] \u001b[39m\u001b[92m+ SimpleBufferStream v1.2.0\u001b[39m\n",
      "  \u001b[90m[699a6c99] \u001b[39m\u001b[92m+ SimpleTraits v0.9.4\u001b[39m\n",
      "  \u001b[90m[276daf66] \u001b[39m\u001b[92m+ SpecialFunctions v2.5.1\u001b[39m\n",
      "  \u001b[90m[171d559e] \u001b[39m\u001b[92m+ SplittablesBase v0.1.15\u001b[39m\n",
      "  \u001b[90m[860ef19b] \u001b[39m\u001b[92m+ StableRNGs v1.0.3\u001b[39m\n",
      "  \u001b[90m[90137ffa] \u001b[39m\u001b[92m+ StaticArrays v1.9.13\u001b[39m\n",
      "  \u001b[90m[1e83bf80] \u001b[39m\u001b[92m+ StaticArraysCore v1.4.3\u001b[39m\n",
      "\u001b[33m⌅\u001b[39m \u001b[90m[a19d573c] \u001b[39m\u001b[92m+ StatisticalMeasures v0.1.7\u001b[39m\n",
      "  \u001b[90m[c062fc1d] \u001b[39m\u001b[92m+ StatisticalMeasuresBase v0.1.2\u001b[39m\n",
      "  \u001b[90m[64bff920] \u001b[39m\u001b[92m+ StatisticalTraits v3.4.0\u001b[39m\n",
      "  \u001b[90m[82ae8749] \u001b[39m\u001b[92m+ StatsAPI v1.7.1\u001b[39m\n",
      "  \u001b[90m[2913bbd2] \u001b[39m\u001b[92m+ StatsBase v0.34.5\u001b[39m\n",
      "  \u001b[90m[4c63d2b9] \u001b[39m\u001b[92m+ StatsFuns v1.5.0\u001b[39m\n",
      "  \u001b[90m[28d57a85] \u001b[39m\u001b[92m+ Transducers v0.4.84\u001b[39m\n",
      "  \u001b[90m[5c2747f8] \u001b[39m\u001b[92m+ URIs v1.5.2\u001b[39m\n",
      "  \u001b[90m[3a884ed6] \u001b[39m\u001b[92m+ UnPack v1.0.2\u001b[39m\n",
      "  \u001b[90m[013be700] \u001b[39m\u001b[92m+ UnsafeAtomics v0.3.0\u001b[39m\n",
      "  \u001b[90m[efe28fd5] \u001b[39m\u001b[92m+ OpenSpecFun_jll v0.5.6+0\u001b[39m\n",
      "  \u001b[90m[f50d1b31] \u001b[39m\u001b[92m+ Rmath_jll v0.5.1+0\u001b[39m\n",
      "  \u001b[90m[8ba89e20] \u001b[39m\u001b[92m+ Distributed v1.11.0\u001b[39m\n",
      "  \u001b[90m[3fa0cd96] \u001b[39m\u001b[92m+ REPL v1.11.0\u001b[39m\n",
      "  \u001b[90m[6462fe0b] \u001b[39m\u001b[92m+ Sockets v1.11.0\u001b[39m\n",
      "  \u001b[90m[f489334b] \u001b[39m\u001b[92m+ StyledStrings v1.11.0\u001b[39m\n",
      "  \u001b[90m[4607b0f0] \u001b[39m\u001b[92m+ SuiteSparse\u001b[39m\n",
      "  \u001b[90m[8dfed614] \u001b[39m\u001b[92m+ Test v1.11.0\u001b[39m\n",
      "  \u001b[90m[05823500] \u001b[39m\u001b[92m+ OpenLibm_jll v0.8.1+4\u001b[39m\n",
      "\u001b[36m\u001b[1m        Info\u001b[22m\u001b[39m Packages marked with \u001b[32m⌃\u001b[39m and \u001b[33m⌅\u001b[39m have new versions available. Those with \u001b[32m⌃\u001b[39m may be upgradable, but those with \u001b[33m⌅\u001b[39m are restricted by compatibility constraints from upgrading. To see why use `status --outdated -m`\n",
      "\u001b[32m\u001b[1m   Resolving\u001b[22m\u001b[39m package versions...\n",
      "\u001b[32m\u001b[1m    Updating\u001b[22m\u001b[39m `~/Python_C_ML/Translational Neuromodeling/Project/Project_8/Classification_and_Regression_DCM/Project.toml`\n",
      "\u001b[32m⌃\u001b[39m \u001b[90m[a7f614a8] \u001b[39m\u001b[92m+ MLJBase v1.7.0\u001b[39m\n",
      "\u001b[32m\u001b[1m  No Changes\u001b[22m\u001b[39m to `~/Python_C_ML/Translational Neuromodeling/Project/Project_8/Classification_and_Regression_DCM/Manifest.toml`\n",
      "\u001b[32m\u001b[1m   Resolving\u001b[22m\u001b[39m package versions...\n",
      "\u001b[32m\u001b[1m   Installed\u001b[22m\u001b[39m MLJLinearModels ─ v0.10.1\n",
      "\u001b[32m\u001b[1m    Updating\u001b[22m\u001b[39m `~/Python_C_ML/Translational Neuromodeling/Project/Project_8/Classification_and_Regression_DCM/Project.toml`\n",
      "  \u001b[90m[6ee0df7b] \u001b[39m\u001b[92m+ MLJLinearModels v0.10.1\u001b[39m\n",
      "\u001b[32m\u001b[1m    Updating\u001b[22m\u001b[39m `~/Python_C_ML/Translational Neuromodeling/Project/Project_8/Classification_and_Regression_DCM/Manifest.toml`\n",
      "  \u001b[90m[47edcb42] \u001b[39m\u001b[92m+ ADTypes v1.14.0\u001b[39m\n",
      "  \u001b[90m[4fba245c] \u001b[39m\u001b[92m+ ArrayInterface v7.19.0\u001b[39m\n",
      "  \u001b[90m[bbf7d656] \u001b[39m\u001b[92m+ CommonSubexpressions v0.3.1\u001b[39m\n",
      "  \u001b[90m[163ba53b] \u001b[39m\u001b[92m+ DiffResults v1.1.0\u001b[39m\n",
      "  \u001b[90m[b552c78f] \u001b[39m\u001b[92m+ DiffRules v1.15.1\u001b[39m\n",
      "\u001b[33m⌅\u001b[39m \u001b[90m[a0c0ee7d] \u001b[39m\u001b[92m+ DifferentiationInterface v0.6.54\u001b[39m\n",
      "  \u001b[90m[4e289a0a] \u001b[39m\u001b[92m+ EnumX v1.0.5\u001b[39m\n",
      "  \u001b[90m[6a86dc24] \u001b[39m\u001b[92m+ FiniteDiff v2.27.0\u001b[39m\n",
      "  \u001b[90m[f6369f11] \u001b[39m\u001b[92m+ ForwardDiff v1.0.1\u001b[39m\n",
      "  \u001b[90m[42fd0dbc] \u001b[39m\u001b[92m+ IterativeSolvers v0.9.4\u001b[39m\n",
      "  \u001b[90m[d3d80556] \u001b[39m\u001b[92m+ LineSearches v7.3.0\u001b[39m\n",
      "  \u001b[90m[7a12625a] \u001b[39m\u001b[92m+ LinearMaps v3.11.4\u001b[39m\n",
      "  \u001b[90m[6ee0df7b] \u001b[39m\u001b[92m+ MLJLinearModels v0.10.1\u001b[39m\n",
      "  \u001b[90m[d41bc354] \u001b[39m\u001b[92m+ NLSolversBase v7.9.1\u001b[39m\n",
      "  \u001b[90m[77ba4419] \u001b[39m\u001b[92m+ NaNMath v1.1.3\u001b[39m\n",
      "  \u001b[90m[429524aa] \u001b[39m\u001b[92m+ Optim v1.12.0\u001b[39m\n",
      "  \u001b[90m[85a6dd25] \u001b[39m\u001b[92m+ PositiveFactorizations v0.2.4\u001b[39m\n",
      "\u001b[36m\u001b[1m        Info\u001b[22m\u001b[39m Packages marked with \u001b[33m⌅\u001b[39m have new versions available but compatibility constraints restrict them from upgrading. To see why use `status --outdated -m`\n",
      "\u001b[92m\u001b[1mPrecompiling\u001b[22m\u001b[39m project...\n",
      "   2067.6 ms\u001b[32m  ✓ \u001b[39mMLJLinearModels\n",
      "  1 dependency successfully precompiled in 2 seconds. 260 already precompiled.\n",
      "\u001b[32m\u001b[1m   Resolving\u001b[22m\u001b[39m package versions...\n",
      "\u001b[32m\u001b[1m    Updating\u001b[22m\u001b[39m `~/Python_C_ML/Translational Neuromodeling/Project/Project_8/Classification_and_Regression_DCM/Project.toml`\n",
      "  \u001b[90m[03970b2e] \u001b[39m\u001b[92m+ MLJTuning v0.8.8\u001b[39m\n",
      "\u001b[32m\u001b[1m  No Changes\u001b[22m\u001b[39m to `~/Python_C_ML/Translational Neuromodeling/Project/Project_8/Classification_and_Regression_DCM/Manifest.toml`\n",
      "\u001b[32m\u001b[1m   Resolving\u001b[22m\u001b[39m package versions...\n",
      "\u001b[32m\u001b[1m    Updating\u001b[22m\u001b[39m `~/Python_C_ML/Translational Neuromodeling/Project/Project_8/Classification_and_Regression_DCM/Project.toml`\n",
      "  \u001b[90m[d491faf4] \u001b[39m\u001b[92m+ MLJModels v0.17.9\u001b[39m\n",
      "\u001b[32m\u001b[1m  No Changes\u001b[22m\u001b[39m to `~/Python_C_ML/Translational Neuromodeling/Project/Project_8/Classification_and_Regression_DCM/Manifest.toml`\n",
      "\u001b[32m\u001b[1m   Resolving\u001b[22m\u001b[39m package versions...\n",
      "\u001b[32m\u001b[1m    Updating\u001b[22m\u001b[39m `~/Python_C_ML/Translational Neuromodeling/Project/Project_8/Classification_and_Regression_DCM/Project.toml`\n",
      "  \u001b[90m[10745b16] \u001b[39m\u001b[92m+ Statistics v1.11.1\u001b[39m\n",
      "\u001b[32m\u001b[1m  No Changes\u001b[22m\u001b[39m to `~/Python_C_ML/Translational Neuromodeling/Project/Project_8/Classification_and_Regression_DCM/Manifest.toml`\n",
      "\u001b[32m\u001b[1m   Resolving\u001b[22m\u001b[39m package versions...\n",
      "\u001b[32m\u001b[1m    Updating\u001b[22m\u001b[39m `~/Python_C_ML/Translational Neuromodeling/Project/Project_8/Classification_and_Regression_DCM/Project.toml`\n",
      "  \u001b[90m[2913bbd2] \u001b[39m\u001b[92m+ StatsBase v0.34.5\u001b[39m\n",
      "\u001b[32m\u001b[1m  No Changes\u001b[22m\u001b[39m to `~/Python_C_ML/Translational Neuromodeling/Project/Project_8/Classification_and_Regression_DCM/Manifest.toml`\n",
      "\u001b[32m\u001b[1m   Resolving\u001b[22m\u001b[39m package versions...\n",
      "\u001b[32m\u001b[1m    Updating\u001b[22m\u001b[39m `~/Python_C_ML/Translational Neuromodeling/Project/Project_8/Classification_and_Regression_DCM/Project.toml`\n",
      "  \u001b[90m[9a3f8284] \u001b[39m\u001b[92m+ Random v1.11.0\u001b[39m\n",
      "\u001b[32m\u001b[1m  No Changes\u001b[22m\u001b[39m to `~/Python_C_ML/Translational Neuromodeling/Project/Project_8/Classification_and_Regression_DCM/Manifest.toml`\n"
     ]
    }
   ],
   "source": [
    "import Pkg\n",
    "Pkg.activate(\".\")\n",
    "Pkg.add(\"CategoricalArrays\")\n",
    "Pkg.add(\"MAT\")\n",
    "Pkg.add(\"DataFrames\")\n",
    "Pkg.add(\"MLJ\")\n",
    "Pkg.add(\"MLJBase\")\n",
    "Pkg.instantiate()\n",
    "Pkg.add(\"MLJLinearModels\")\n",
    "Pkg.instantiate()\n",
    "Pkg.add(\"MLJTuning\")\n",
    "Pkg.instantiate()\n",
    "Pkg.add(\"MLJModels\")\n",
    "Pkg.instantiate()\n",
    "Pkg.add(\"Statistics\")\n",
    "Pkg.instantiate()\n",
    "Pkg.add(\"StatsBase\")\n",
    "Pkg.instantiate()\n",
    "Pkg.add(\"Random\")\n",
    "Pkg.instantiate()\n",
    "# Define the packages\n",
    "using Pkg\n",
    "using CategoricalArrays\n",
    "using MAT\n",
    "using DataFrames\n",
    "using MLJ\n",
    "using LinearAlgebra\n",
    "using Statistics\n",
    "using Plots\n",
    "using StatsPlots\n",
    "using CSV"
   ]
  },
  {
   "cell_type": "code",
   "execution_count": 4,
   "id": "7937ac43",
   "metadata": {},
   "outputs": [
    {
     "name": "stderr",
     "output_type": "stream",
     "text": [
      "\u001b[32m\u001b[1m   Resolving\u001b[22m\u001b[39m package versions...\n",
      "\u001b[32m\u001b[1m    Updating\u001b[22m\u001b[39m `~/Python_C_ML/Translational Neuromodeling/Project/Project_8/Classification_and_Regression_DCM/Project.toml`\n",
      "  \u001b[90m[92933f4c] \u001b[39m\u001b[92m+ ProgressMeter v1.10.4\u001b[39m\n",
      "\u001b[32m\u001b[1m  No Changes\u001b[22m\u001b[39m to `~/Python_C_ML/Translational Neuromodeling/Project/Project_8/Classification_and_Regression_DCM/Manifest.toml`\n"
     ]
    }
   ],
   "source": [
    "Pkg.add(\"ProgressMeter\")\n",
    "Pkg.instantiate()"
   ]
  },
  {
   "cell_type": "code",
   "execution_count": null,
   "id": "d55c4a0d",
   "metadata": {},
   "outputs": [
    {
     "data": {
      "text/plain": [
       "permutation_test_regressor"
      ]
     },
     "metadata": {},
     "output_type": "display_data"
    }
   ],
   "source": [
    "using Random, Statistics, ProgressMeter\n",
    "\n",
    "\"\"\"\n",
    "    permutation_test_classifier(\n",
    "        X::Tables.AbstractColumns, y::AbstractVector,\n",
    "        model; cv=nothing, n_perm=1000, measure=accuracy, rng=Random.default_rng()\n",
    "    ) → (p, observed, null_dist)\n",
    "\n",
    "Exact-label permutation test for classification metrics.\n",
    "\n",
    "* `model`     - an MLJ model instance (e.g. LogisticClassifier()).\n",
    "* `cv`        - a pre-built `StratifiedCV` or `CV`; if `nothing` a 5-fold stratified CV is built.\n",
    "* `n_perm`    - number of label shuffles.\n",
    "* `measure`   - any MLJ measure (default = `accuracy`).\n",
    "\n",
    "Returns the *p*-value, the observed score, and the vector of permuted scores.\n",
    "\"\"\"\n",
    "function permutation_test_classifier(X, y, model;\n",
    "        cv=nothing, n_perm::Int=1000,\n",
    "        measure=accuracy, rng=Random.default_rng())\n",
    "\n",
    "    cv === nothing && (cv = StratifiedCV(nfolds=5, shuffle=true, rng=rng))\n",
    "    obs_mach = machine(model, X, y)\n",
    "    obs_result = evaluate!(obs_mach; resampling=cv, measures=[measure],\n",
    "                           operation=predict_mode, verbosity=0)\n",
    "    observed = mean(obs_result.per_fold[1])\n",
    "\n",
    "    null_scores = Float64[]\n",
    "    @showprogress 1 \"Permutation test…\" for _ in 1:n_perm\n",
    "        y_perm = shuffle(rng, y)\n",
    "        perm_mach = machine(model, X, y_perm)\n",
    "        res = evaluate!(perm_mach; resampling=cv, measures=[measure],\n",
    "                        operation=predict_mode, verbosity=0)\n",
    "        push!(null_scores, mean(res.per_fold[1]))\n",
    "    end\n",
    "    # one-sided p-value (H_0: score is not better than chance)\n",
    "    p = (count(>=(observed), null_scores) + 1) / (n_perm + 1)\n",
    "\n",
    "    return p, observed, null_scores\n",
    "end\n",
    "\n"
   ]
  },
  {
   "cell_type": "code",
   "execution_count": 52,
   "id": "869362ac-7a9e-41a0-a4b1-eac57a97d290",
   "metadata": {},
   "outputs": [
    {
     "data": {
      "text/plain": [
       "26-element CategoricalArray{String,1,UInt32}:\n",
       " \"Strong Response\"\n",
       " \"Strong Response\"\n",
       " \"Remission\"\n",
       " \"Stable\"\n",
       " \"Strong Response\"\n",
       " \"Deterioration\"\n",
       " \"Strong Response\"\n",
       " \"Stable\"\n",
       " \"Remission\"\n",
       " \"Remission\"\n",
       " ⋮\n",
       " \"Stable\"\n",
       " \"Remission\"\n",
       " \"Strong Response\"\n",
       " \"Mild Response\"\n",
       " \"Mild Response\"\n",
       " \"Stable\"\n",
       " \"Stable\"\n",
       " \"Remission\"\n",
       " \"Stable\""
      ]
     },
     "metadata": {},
     "output_type": "display_data"
    }
   ],
   "source": [
    "# sub-MOA101, sub-MOA102, sub-MOA104, sub-MOA105, sub-MOA107, sub-MOA108, sub-MOA109, sub-MOA110, sub-MOA111, sub-MOA112, sub-MOA114,\n",
    "# sub-MOA115, sub-MOA116, sub-MOA118, sub-MOA121, sub-MOA122, sub-MOA123, sub-MOA124, sub-MOA126, sub-MOA127, sub-MOA128, sub-MOA130,\n",
    "# sub-MOA131, sub-MOA133, sub-MOA134, sub-MOA135\n",
    "\n",
    "# Binary treatment response categories\n",
    "y_binary = (\"Response\",\"Response\",\"Response\",\"No Response\",\"Response\",\"No Response\",\"Response\",\"No Response\",\"Response\",\"Response\",\n",
    "    \"No Response\",\"No Response\",\"Response\",\"Response\",\"No Response\",\"No Response\",\"No Response\",\"No Response\",\"Response\",\"Response\",\n",
    "    \"No Response\", \"No Response\" ,\"No Response\", \"No Response\",\"Response\", \"No Response\")\n",
    "\n",
    "# Tri label response categories\n",
    "y_tri = (\"Partial Response\",\"Partial Response\",\"Remission\",\"No Response\",\"Partial Response\",\"No Response\",\"Partial Response\",\"No Response\",\n",
    "    \"Remission\", \"Remission\",\"Partial Response\",\"Partial Response\",\"Partial Response\",\"Remission\",\"No Response\",\"No Response\",\n",
    "    \"Partial Response\",\"No Response\",\"Remission\",\"Partial Response\",\"Partial Response\",\"Partial Response\",\"No Response\",\"No Response\",\n",
    "    \"Remission\",\"No Response\")\n",
    "\n",
    "# Quad label response categories\n",
    "y_quad = (\"Partial Response\",\"Partial Response\",\"Remission\",\"Stable\",\"Partial Response\",\"Deterioration\",\"Partial Response\",\"Stable\",\n",
    "    \"Remission\",\"Remission\",\"Partial Response\",\"Partial Response\",\"Partial Response\",\"Remission\",\"Stable\",\"Deterioration\", \"Stable\",\n",
    "    \"Stable\",\"Remission\",\"Partial Response\",\"Partial Response\",\"Partial Response\",\"Stable\",\"Stable\",\"Remission\",\"Stable\")\n",
    "\n",
    "# Penta label response categories\n",
    "y_penta = (\"Strong Response\",\"Strong Response\",\"Remission\",\"Stable\",\"Strong Response\",\"Deterioration\",\"Strong Response\",\"Stable\",\n",
    "    \"Remission\",\"Remission\",\"Mild Response\",\"Mild Response\",\"Strong Response\",\"Remission\",\"Stable\",\"Deterioration\",\"Stable\",\"Stable\",\n",
    "    \"Remission\",\"Strong Response\",\"Mild Response\",\"Mild Response\",\"Stable\",\"Stable\",\"Remission\",\"Stable\")\n",
    "\n",
    "\n",
    "\n",
    "# Convert to CategoricalArray\n",
    "y_binary = categorical(collect(y_binary))\n",
    "y_tri = categorical(collect(y_tri))\n",
    "y_quad = categorical(collect(y_quad))\n",
    "y_penta = categorical(collect(y_penta))\n"
   ]
  },
  {
   "cell_type": "code",
   "execution_count": null,
   "id": "2b0ec821",
   "metadata": {},
   "outputs": [
    {
     "name": "stdout",
     "output_type": "stream",
     "text": [
      "import MLJLinearModels ✔\n",
      "Permutation p-value (accuracy) = 0.05189620758483034"
     ]
    },
    {
     "name": "stderr",
     "output_type": "stream",
     "text": [
      "┌ Info: For silent loading, specify `verbosity=0`. \n",
      "└ @ Main /Users/ricobenning/.julia/packages/MLJModels/nxeCf/src/loading.jl:159\n"
     ]
    },
    {
     "name": "stdout",
     "output_type": "stream",
     "text": [
      "\n",
      "Permutation p-value (tri accuracy) = 0.05788423153692615\n",
      "Permutation p-value (quad accuracy) = 0.7265469061876247\n",
      "Permutation p-value (penta accuracy) = 0.281437125748503\n"
     ]
    }
   ],
   "source": [
    "# classification – permutation test outcomes\n",
    "LogisticClassifier = @load LogisticClassifier pkg=MLJLinearModels\n",
    "p, acc, null_acc = permutation_test_classifier(X_df, y_binary,\n",
    "                                               LogisticClassifier(); n_perm=500)\n",
    "println(\"Permutation p-value (accuracy) = $p\")\n",
    "\n",
    "\n",
    "p_tri, acc_tri, null_acc_tri = permutation_test_classifier(X_df, y_tri,\n",
    "                                                           LogisticClassifier(); n_perm=500)\n",
    "\n",
    "println(\"Permutation p-value (tri accuracy) = $p_tri\")\n",
    "\n",
    "p_quad, acc_quad, null_acc_quad = permutation_test_classifier(X_df, y_quad,\n",
    "                                                               LogisticClassifier(); n_perm=500)\n",
    "println(\"Permutation p-value (quad accuracy) = $p_quad\")\n",
    "\n",
    "p_penta, acc_penta, null_acc_penta = permutation_test_classifier(X_df, y_penta,\n",
    "                                                                   LogisticClassifier(); n_perm=500)\n",
    "println(\"Permutation p-value (penta accuracy) = $p_penta\")\n"
   ]
  },
  {
   "cell_type": "code",
   "execution_count": 54,
   "id": "1863b582-72b3-4cc1-9335-75cfc9b3f72b",
   "metadata": {},
   "outputs": [
    {
     "name": "stdout",
     "output_type": "stream",
     "text": [
      "✅ Found Spectral_DCM.mat for 26 out of 26 subjects.\n"
     ]
    }
   ],
   "source": [
    "# List of subjects that have some degree of depression\n",
    "target_subjects = [\n",
    "    \"sub-MOA101\", \"sub-MOA102\", \"sub-MOA104\", \"sub-MOA105\", \"sub-MOA107\", \"sub-MOA108\", \"sub-MOA109\", \"sub-MOA110\", \"sub-MOA111\",\n",
    "    \"sub-MOA112\", \"sub-MOA114\", \"sub-MOA115\", \"sub-MOA116\", \"sub-MOA118\", \"sub-MOA121\", \"sub-MOA122\", \"sub-MOA123\",\"sub-MOA124\", \n",
    "    \"sub-MOA126\", \"sub-MOA127\", \"sub-MOA128\", \"sub-MOA130\", \"sub-MOA131\", \"sub-MOA133\", \"sub-MOA134\", \"sub-MOA135\"]\n",
    "\n",
    "# Base path to your subject folders\n",
    "base_path = \"Spectral_DCM_Collection_Diag_4x4\"\n",
    "\n",
    "# Collect valid file paths\n",
    "valid_files = String[]\n",
    "\n",
    "for subj in target_subjects\n",
    "    subj_path = joinpath(base_path, subj)\n",
    "    ses_path = joinpath(subj_path, \"ses-b0\")\n",
    "    glm_path = joinpath(ses_path, \"glm\")\n",
    "    dcm_file = joinpath(glm_path, \"spDCM_DMN.mat\")\n",
    "\n",
    "    if !isdir(ses_path)\n",
    "        @warn \"Missing session folder: $ses_path\"\n",
    "    elseif !isfile(dcm_file)\n",
    "        @warn \"Missing spDCM_DMN.mat for $subj\"\n",
    "    else\n",
    "        push!(valid_files, dcm_file)\n",
    "    end\n",
    "end\n",
    "\n",
    "println(\"✅ Found Spectral_DCM.mat for $(length(valid_files)) out of $(length(target_subjects)) subjects.\")\n"
   ]
  },
  {
   "cell_type": "code",
   "execution_count": 56,
   "id": "45eaa8ce-65ec-41b3-ae87-c89b4a34f9b0",
   "metadata": {},
   "outputs": [
    {
     "data": {
      "text/plain": [
       "extract_features (generic function with 1 method)"
      ]
     },
     "metadata": {},
     "output_type": "display_data"
    }
   ],
   "source": [
    "# Extract A matrix features as a flat 16-element vector\n",
    "function extract_features(file)\n",
    "    mat = matread(file)\n",
    "    A = mat[\"params\"]  # 4×4 matrix\n",
    "    return vec(Matrix(A))  # Flatten to 16-element vector\n",
    "end"
   ]
  },
  {
   "cell_type": "code",
   "execution_count": 57,
   "id": "c3ac567d-e9ef-47c6-bb49-1c8c8c5566c5",
   "metadata": {},
   "outputs": [],
   "source": [
    "# Create feature dataset\n",
    "X = hcat([extract_features(file) for file in valid_files]...)'\n",
    "\n",
    "X_df = DataFrame(X, :auto)  # convert to MLJ-compatible table\n",
    "\n",
    "# Ensure that the number of subjects match in X_df and Y labels of different modalities\n",
    "@assert size(X_df, 1) == length(y_binary) \"Mismatch between number of samples in X and y_binary\"\n",
    "@assert size(X_df, 1) == length(y_tri) \"Mismatch between number of samples in X and y_tri\"\n",
    "@assert size(X_df, 1) == length(y_quad) \"Mismatch between number of samples in X and y_quad\"\n",
    "@assert size(X_df, 1) == length(y_penta) \"Mismatch between number of samples in X and y_penta\""
   ]
  },
  {
   "cell_type": "code",
   "execution_count": 58,
   "id": "8e099112-74d5-4a2d-90a5-8c15ff4b9c93",
   "metadata": {},
   "outputs": [
    {
     "data": {
      "text/plain": [
       "evaluate_logistic_model (generic function with 1 method)"
      ]
     },
     "metadata": {},
     "output_type": "display_data"
    }
   ],
   "source": [
    "function evaluate_logistic_model(X_df, y, nfolds::Int, label_type::String)\n",
    "    # Load model\n",
    "    LogisticClassifier = @load LogisticClassifier pkg=MLJLinearModels\n",
    "    pipe = LogisticClassifier()\n",
    "    mach = machine(pipe, X_df, y)\n",
    "\n",
    "    # Setup evaluation\n",
    "    measures = [accuracy, MulticlassFScore(), ConfusionMatrix()]\n",
    "    cv = StratifiedCV(nfolds=nfolds, shuffle=true, rng=42)\n",
    "\n",
    "    # Evaluate\n",
    "    eval_result = evaluate!(\n",
    "        mach,\n",
    "        resampling=cv,\n",
    "        measures=measures,\n",
    "        operation=predict_mode,\n",
    "        verbosity=0,\n",
    "        check_measure=false\n",
    "    )\n",
    "\n",
    "    accs = eval_result.per_fold[1]\n",
    "    f1s = eval_result.per_fold[2]\n",
    "    cmats = eval_result.per_fold[3]\n",
    "\n",
    "    macro_precisions = Float64[]\n",
    "    macro_recalls = Float64[]\n",
    "\n",
    "    for cm in cmats\n",
    "        cmatrix = cm.mat\n",
    "        TP = diag(cmatrix)\n",
    "        FP = sum(cmatrix, dims=1)' .- TP\n",
    "        FN = sum(cmatrix, dims=2) .- TP\n",
    "        support = sum(cmatrix, dims=2)[:]\n",
    "        total = sum(support)\n",
    "\n",
    "        class_precisions = map((tp, fp) -> (tp + fp == 0 ? NaN : tp / (tp + fp)), TP, FP)\n",
    "        class_recalls    = map((tp, fn) -> (tp + fn == 0 ? NaN : tp / (tp + fn)), TP, FN)\n",
    "\n",
    "        macro_precision = mean(skipmissing(class_precisions))\n",
    "        macro_recall    = mean(skipmissing(class_recalls))\n",
    "\n",
    "        push!(macro_precisions, macro_precision)\n",
    "        push!(macro_recalls, macro_recall)\n",
    "    end\n",
    "\n",
    "    # Collect metrics in DataFrame\n",
    "    metrics_df = DataFrame(\n",
    "        Fold = 1:nfolds,\n",
    "        Accuracy = accs,\n",
    "        F1_Score = f1s,\n",
    "        Macro_Precision = macro_precisions,\n",
    "        Macro_Recall = macro_recalls\n",
    "    )\n",
    "\n",
    "    # Add row for averages\n",
    "    avg_row = DataFrame(\n",
    "        Fold = [\"Average\"],\n",
    "        Accuracy = [mean(skipmissing(accs))],\n",
    "        F1_Score = [mean(skipmissing(f1s))],\n",
    "        Macro_Precision = [mean(skipmissing(macro_precisions))],\n",
    "        Macro_Recall = [mean(skipmissing(macro_recalls))]\n",
    "    )\n",
    "\n",
    "    metrics_table = vcat(metrics_df, avg_row)\n",
    "\n",
    "    # Save table as CSV instead (more robust and universally usable)\n",
    "    csv_table_path = \"tables/table_$(nfolds)_grouped_metrics_logistics_$(label_type).csv\"\n",
    "    CSV.write(csv_table_path, metrics_table)\n",
    "\n",
    "    # Prepare DataFrame for plotting\n",
    "    metrics = [\"Accuracy\", \"F1 Score\", \"Macro Precision\", \"Macro Recall\"]\n",
    "    metric_values = [accs, f1s, macro_precisions, macro_recalls]\n",
    "\n",
    "    plot_df = DataFrame(\n",
    "        Fold = repeat(1:nfolds, outer=length(metrics)),\n",
    "        Metric = repeat(metrics, inner=nfolds),\n",
    "        Value = vcat(metric_values...)\n",
    "    )\n",
    "\n",
    "    # Plot grouped bars\n",
    "    @df plot_df groupedbar(\n",
    "        string.(:Fold), :Value, group=:Metric,\n",
    "        bar_position=:dodge,\n",
    "        bar_width=0.2,\n",
    "        xlabel=\"Fold\", ylabel=\"Metric Value\",\n",
    "        yticks=0:0.05:1.0,\n",
    "        title=\"Logistic Classification Fold-wise Metrics\",\n",
    "        legend=:outertop,\n",
    "        size=(750, 500),\n",
    "        guidefontsize=10,\n",
    "        tickfontsize=10,\n",
    "        dpi=300\n",
    "    )\n",
    "\n",
    "    savefig(\"figures/$(nfolds)_grouped_metrics_logistics_$(label_type).png\")\n",
    "end"
   ]
  },
  {
   "cell_type": "code",
   "execution_count": 80,
   "id": "3a5cb614-2277-4c71-b6bf-228d87073ea6",
   "metadata": {},
   "outputs": [
    {
     "name": "stdout",
     "output_type": "stream",
     "text": [
      "import MLJLinearModels ✔\n"
     ]
    },
    {
     "name": "stderr",
     "output_type": "stream",
     "text": [
      "┌ Info: For silent loading, specify `verbosity=0`. \n",
      "└ @ Main /Users/ricobenning/.julia/packages/MLJModels/nxeCf/src/loading.jl:159\n",
      "┌ Info: For silent loading, specify `verbosity=0`. \n",
      "└ @ Main /Users/ricobenning/.julia/packages/MLJModels/nxeCf/src/loading.jl:159\n"
     ]
    },
    {
     "name": "stdout",
     "output_type": "stream",
     "text": [
      "import MLJLinearModels ✔\n"
     ]
    },
    {
     "name": "stderr",
     "output_type": "stream",
     "text": [
      "┌ Info: For silent loading, specify `verbosity=0`. \n",
      "└ @ Main /Users/ricobenning/.julia/packages/MLJModels/nxeCf/src/loading.jl:159\n"
     ]
    },
    {
     "name": "stdout",
     "output_type": "stream",
     "text": [
      "import MLJLinearModels ✔\n"
     ]
    },
    {
     "name": "stderr",
     "output_type": "stream",
     "text": [
      "┌ Info: For silent loading, specify `verbosity=0`. \n",
      "└ @ Main /Users/ricobenning/.julia/packages/MLJModels/nxeCf/src/loading.jl:159\n"
     ]
    },
    {
     "name": "stdout",
     "output_type": "stream",
     "text": [
      "import MLJLinearModels ✔\n"
     ]
    },
    {
     "data": {
      "text/plain": [
       "\"/Users/ricobenning/Python_C_ML/Translational Neuromodeling/Project/Project_8/Classification_and_Regression_DCM/figures/5_grouped_metrics_logistics_penta.png\""
      ]
     },
     "metadata": {},
     "output_type": "display_data"
    }
   ],
   "source": [
    "# #Evaluate logistic model classifier for 3 fold cross validation\n",
    "# evaluate_logistic_model(X_df, y_binary, 3, \"binary\")\n",
    "# evaluate_logistic_model(X_df, y_tri, 3, \"tri\")\n",
    "# evaluate_logistic_model(X_df, y_quad, 3, \"quad\")\n",
    "# evaluate_logistic_model(X_df, y_penta, 3, \"penta\")\n",
    "\n",
    "\n",
    "# #Evaluate logistic model classifier for 4 fold cross validation\n",
    "# evaluate_logistic_model(X_df, y_binary, 4, \"binary\")\n",
    "# evaluate_logistic_model(X_df, y_tri, 4, \"tri\")\n",
    "# evaluate_logistic_model(X_df, y_quad, 4, \"quad\")\n",
    "# evaluate_logistic_model(X_df, y_penta, 4, \"penta\")\n",
    "\n",
    "\n",
    "#Evaluate logistic model classifier for 5 fold cross validation\n",
    "evaluate_logistic_model(X_df, y_binary, 5, \"binary\")\n",
    "evaluate_logistic_model(X_df, y_tri, 5, \"tri\")\n",
    "evaluate_logistic_model(X_df, y_quad, 5, \"quad\")\n",
    "evaluate_logistic_model(X_df, y_penta, 5, \"penta\")\n"
   ]
  },
  {
   "cell_type": "code",
   "execution_count": 81,
   "id": "eb734afb",
   "metadata": {},
   "outputs": [
    {
     "name": "stdout",
     "output_type": "stream",
     "text": [
      "import MLJLinearModels ✔\n",
      "Permutation p-value (accuracy) = 0.03992015968063872"
     ]
    },
    {
     "name": "stderr",
     "output_type": "stream",
     "text": [
      "┌ Info: For silent loading, specify `verbosity=0`. \n",
      "└ @ Main /Users/ricobenning/.julia/packages/MLJModels/nxeCf/src/loading.jl:159\n"
     ]
    },
    {
     "name": "stdout",
     "output_type": "stream",
     "text": [
      "\n",
      "Permutation p-value (tri accuracy) = 0.11976047904191617\n",
      "Permutation p-value (quad accuracy) = 0.36726546906187624\n",
      "Permutation p-value (penta accuracy) = 0.2754491017964072\n"
     ]
    }
   ],
   "source": [
    "LogisticClassifier = @load LogisticClassifier pkg=MLJLinearModels\n",
    "p, acc, null_acc = permutation_test_classifier(X_df, y_binary,\n",
    "                                               LogisticClassifier(); n_perm=500)\n",
    "println(\"Permutation p-value (accuracy) = $p\")\n",
    "\n",
    "\n",
    "p_tri, acc_tri, null_acc_tri = permutation_test_classifier(X_df, y_tri,\n",
    "                                                           LogisticClassifier(); n_perm=500)\n",
    "\n",
    "println(\"Permutation p-value (tri accuracy) = $p_tri\")\n",
    "\n",
    "p_quad, acc_quad, null_acc_quad = permutation_test_classifier(X_df, y_quad,\n",
    "                                                               LogisticClassifier(); n_perm=500)\n",
    "println(\"Permutation p-value (quad accuracy) = $p_quad\")\n",
    "\n",
    "p_penta, acc_penta, null_acc_penta = permutation_test_classifier(X_df, y_penta,\n",
    "                                                                   LogisticClassifier(); n_perm=500)\n",
    "println(\"Permutation p-value (penta accuracy) = $p_penta\")\n",
    "\n",
    "\n"
   ]
  },
  {
   "cell_type": "code",
   "execution_count": 63,
   "id": "0d7657cd-e52f-4705-9727-7e485d8cd3a0",
   "metadata": {},
   "outputs": [
    {
     "data": {
      "text/plain": [
       "evaluate_multinomial_classifier_model (generic function with 1 method)"
      ]
     },
     "metadata": {},
     "output_type": "display_data"
    }
   ],
   "source": [
    "function evaluate_multinomial_classifier_model(X_df, y, nfolds::Int, label_type::String)\n",
    "    # Load model\n",
    "    MultinomialClassifier = @load MultinomialClassifier pkg=MLJLinearModels\n",
    "    pipe = MultinomialClassifier()\n",
    "    mach = machine(pipe, X_df, y)\n",
    "\n",
    "    # Setup evaluation\n",
    "    measures = [accuracy, MulticlassFScore(), ConfusionMatrix()]\n",
    "    cv = StratifiedCV(nfolds=nfolds, shuffle=true, rng=42)\n",
    "\n",
    "    # Evaluate\n",
    "    eval_result = evaluate!(\n",
    "        mach,\n",
    "        resampling=cv,\n",
    "        measures=measures,\n",
    "        operation=predict_mode,\n",
    "        verbosity=0,\n",
    "        check_measure=false\n",
    "    )\n",
    "\n",
    "    accs = eval_result.per_fold[1]\n",
    "    f1s = eval_result.per_fold[2]\n",
    "    cmats = eval_result.per_fold[3]\n",
    "\n",
    "    macro_precisions = Float64[]\n",
    "    macro_recalls = Float64[]\n",
    "\n",
    "    for cm in cmats\n",
    "        cmatrix = cm.mat\n",
    "        TP = diag(cmatrix)\n",
    "        FP = sum(cmatrix, dims=1)' .- TP\n",
    "        FN = sum(cmatrix, dims=2) .- TP\n",
    "        support = sum(cmatrix, dims=2)[:]\n",
    "        total = sum(support)\n",
    "\n",
    "        class_precisions = map((tp, fp) -> (tp + fp == 0 ? NaN : tp / (tp + fp)), TP, FP)\n",
    "        class_recalls    = map((tp, fn) -> (tp + fn == 0 ? NaN : tp / (tp + fn)), TP, FN)\n",
    "\n",
    "        macro_precision = mean(skipmissing(class_precisions))\n",
    "        macro_recall    = mean(skipmissing(class_recalls))\n",
    "\n",
    "        push!(macro_precisions, macro_precision)\n",
    "        push!(macro_recalls, macro_recall)\n",
    "    end\n",
    "\n",
    "    # Collect metrics in DataFrame\n",
    "    metrics_df = DataFrame(\n",
    "        Fold = 1:nfolds,\n",
    "        Accuracy = accs,\n",
    "        F1_Score = f1s,\n",
    "        Macro_Precision = macro_precisions,\n",
    "        Macro_Recall = macro_recalls\n",
    "    )\n",
    "\n",
    "    # Add row for averages\n",
    "    avg_row = DataFrame(\n",
    "        Fold = [\"Average\"],\n",
    "        Accuracy = [mean(skipmissing(accs))],\n",
    "        F1_Score = [mean(skipmissing(f1s))],\n",
    "        Macro_Precision = [mean(skipmissing(macro_precisions))],\n",
    "        Macro_Recall = [mean(skipmissing(macro_recalls))]\n",
    "    )\n",
    "\n",
    "    metrics_table = vcat(metrics_df, avg_row)\n",
    "\n",
    "    # Save table as CSV instead (more robust and universally usable)\n",
    "    csv_table_path = \"tables/table_$(nfolds)_grouped_metrics_multinomial_$(label_type).csv\"\n",
    "    CSV.write(csv_table_path, metrics_table)\n",
    "\n",
    "    # Prepare DataFrame for plotting\n",
    "    metrics = [\"Accuracy\", \"F1 Score\", \"Macro Precision\", \"Macro Recall\"]\n",
    "    metric_values = [accs, f1s, macro_precisions, macro_recalls]\n",
    "\n",
    "    plot_df = DataFrame(\n",
    "        Fold = repeat(1:nfolds, outer=length(metrics)),\n",
    "        Metric = repeat(metrics, inner=nfolds),\n",
    "        Value = vcat(metric_values...)\n",
    "    )\n",
    "\n",
    "    # Plot grouped bars\n",
    "    @df plot_df groupedbar(\n",
    "        string.(:Fold), :Value, group=:Metric,\n",
    "        bar_position=:dodge,\n",
    "        bar_width=0.2,\n",
    "        xlabel=\"Fold\", ylabel=\"Metric Value\",\n",
    "        yticks=0:0.05:1.0,\n",
    "        title=\"Multinomial Classification Fold-wise Metrics\",\n",
    "        legend=:outertop,\n",
    "        size=(750, 500),\n",
    "        guidefontsize=10,\n",
    "        tickfontsize=10,\n",
    "        dpi=300\n",
    "    )\n",
    "\n",
    "    savefig(\"figures/$(nfolds)_grouped_metrics_multinomial_$(label_type).png\")\n",
    "end"
   ]
  },
  {
   "cell_type": "code",
   "execution_count": 64,
   "id": "6cdd6959-db26-493f-a739-a38f48cbb775",
   "metadata": {},
   "outputs": [
    {
     "name": "stdout",
     "output_type": "stream",
     "text": [
      "import MLJLinearModels ✔\n"
     ]
    },
    {
     "name": "stderr",
     "output_type": "stream",
     "text": [
      "┌ Info: For silent loading, specify `verbosity=0`. \n",
      "└ @ Main /Users/ricobenning/.julia/packages/MLJModels/nxeCf/src/loading.jl:159\n",
      "┌ Info: For silent loading, specify `verbosity=0`. \n",
      "└ @ Main /Users/ricobenning/.julia/packages/MLJModels/nxeCf/src/loading.jl:159\n"
     ]
    },
    {
     "name": "stdout",
     "output_type": "stream",
     "text": [
      "import MLJLinearModels ✔\n"
     ]
    },
    {
     "name": "stderr",
     "output_type": "stream",
     "text": [
      "┌ Info: For silent loading, specify `verbosity=0`. \n",
      "└ @ Main /Users/ricobenning/.julia/packages/MLJModels/nxeCf/src/loading.jl:159\n"
     ]
    },
    {
     "name": "stdout",
     "output_type": "stream",
     "text": [
      "import MLJLinearModels ✔\n"
     ]
    },
    {
     "name": "stderr",
     "output_type": "stream",
     "text": [
      "┌ Info: For silent loading, specify `verbosity=0`. \n",
      "└ @ Main /Users/ricobenning/.julia/packages/MLJModels/nxeCf/src/loading.jl:159\n"
     ]
    },
    {
     "name": "stdout",
     "output_type": "stream",
     "text": [
      "import MLJLinearModels ✔\n"
     ]
    },
    {
     "name": "stderr",
     "output_type": "stream",
     "text": [
      "┌ Info: For silent loading, specify `verbosity=0`. \n",
      "└ @ Main /Users/ricobenning/.julia/packages/MLJModels/nxeCf/src/loading.jl:159\n"
     ]
    },
    {
     "name": "stdout",
     "output_type": "stream",
     "text": [
      "import MLJLinearModels ✔\n"
     ]
    },
    {
     "name": "stderr",
     "output_type": "stream",
     "text": [
      "┌ Info: For silent loading, specify `verbosity=0`. \n",
      "└ @ Main /Users/ricobenning/.julia/packages/MLJModels/nxeCf/src/loading.jl:159\n"
     ]
    },
    {
     "name": "stdout",
     "output_type": "stream",
     "text": [
      "import MLJLinearModels ✔\n"
     ]
    },
    {
     "name": "stderr",
     "output_type": "stream",
     "text": [
      "┌ Info: For silent loading, specify `verbosity=0`. \n",
      "└ @ Main /Users/ricobenning/.julia/packages/MLJModels/nxeCf/src/loading.jl:159\n"
     ]
    },
    {
     "name": "stdout",
     "output_type": "stream",
     "text": [
      "import MLJLinearModels ✔\n"
     ]
    },
    {
     "name": "stderr",
     "output_type": "stream",
     "text": [
      "┌ Info: For silent loading, specify `verbosity=0`. \n",
      "└ @ Main /Users/ricobenning/.julia/packages/MLJModels/nxeCf/src/loading.jl:159\n"
     ]
    },
    {
     "name": "stdout",
     "output_type": "stream",
     "text": [
      "import MLJLinearModels ✔\n"
     ]
    },
    {
     "name": "stderr",
     "output_type": "stream",
     "text": [
      "┌ Info: For silent loading, specify `verbosity=0`. \n",
      "└ @ Main /Users/ricobenning/.julia/packages/MLJModels/nxeCf/src/loading.jl:159\n"
     ]
    },
    {
     "name": "stdout",
     "output_type": "stream",
     "text": [
      "import MLJLinearModels ✔\n"
     ]
    },
    {
     "name": "stderr",
     "output_type": "stream",
     "text": [
      "┌ Info: For silent loading, specify `verbosity=0`. \n",
      "└ @ Main /Users/ricobenning/.julia/packages/MLJModels/nxeCf/src/loading.jl:159\n"
     ]
    },
    {
     "name": "stdout",
     "output_type": "stream",
     "text": [
      "import MLJLinearModels ✔\n"
     ]
    },
    {
     "name": "stderr",
     "output_type": "stream",
     "text": [
      "┌ Info: For silent loading, specify `verbosity=0`. \n",
      "└ @ Main /Users/ricobenning/.julia/packages/MLJModels/nxeCf/src/loading.jl:159\n"
     ]
    },
    {
     "name": "stdout",
     "output_type": "stream",
     "text": [
      "import MLJLinearModels ✔\n"
     ]
    },
    {
     "name": "stderr",
     "output_type": "stream",
     "text": [
      "┌ Info: For silent loading, specify `verbosity=0`. \n",
      "└ @ Main /Users/ricobenning/.julia/packages/MLJModels/nxeCf/src/loading.jl:159\n"
     ]
    },
    {
     "name": "stdout",
     "output_type": "stream",
     "text": [
      "import MLJLinearModels ✔\n"
     ]
    },
    {
     "data": {
      "text/plain": [
       "\"/Users/ricobenning/Python_C_ML/Translational Neuromodeling/Project/Project_8/Classification_and_Regression_DCM/figures/5_grouped_metrics_multinomial_penta.png\""
      ]
     },
     "metadata": {},
     "output_type": "display_data"
    }
   ],
   "source": [
    "#Evaluate multinomial model classifier for 3 fold cross validation\n",
    "evaluate_multinomial_classifier_model(X_df, y_binary, 3, \"binary\")\n",
    "evaluate_multinomial_classifier_model(X_df, y_tri, 3, \"tri\")\n",
    "evaluate_multinomial_classifier_model(X_df, y_quad, 3, \"quad\")\n",
    "evaluate_multinomial_classifier_model(X_df, y_penta, 3, \"penta\")\n",
    "\n",
    "#Evaluate multinomial model classifier for 4 fold cross validation\n",
    "evaluate_multinomial_classifier_model(X_df, y_binary, 4, \"binary\")\n",
    "evaluate_multinomial_classifier_model(X_df, y_tri, 4, \"tri\")\n",
    "evaluate_multinomial_classifier_model(X_df, y_quad, 4, \"quad\")\n",
    "evaluate_multinomial_classifier_model(X_df, y_penta, 4, \"penta\")\n",
    "\n",
    "#Evaluate multinomial model classifier for 5 fold cross validation\n",
    "evaluate_multinomial_classifier_model(X_df, y_binary, 5, \"binary\")\n",
    "evaluate_multinomial_classifier_model(X_df, y_tri, 5, \"tri\")\n",
    "evaluate_multinomial_classifier_model(X_df, y_quad, 5, \"quad\")\n",
    "evaluate_multinomial_classifier_model(X_df, y_penta, 5, \"penta\")"
   ]
  },
  {
   "cell_type": "code",
   "execution_count": 65,
   "id": "5f673a21",
   "metadata": {},
   "outputs": [
    {
     "name": "stdout",
     "output_type": "stream",
     "text": [
      "import MLJLinearModels ✔\n",
      "Permutation p-value (accuracy) = 0.08582834331337326"
     ]
    },
    {
     "name": "stderr",
     "output_type": "stream",
     "text": [
      "┌ Info: For silent loading, specify `verbosity=0`. \n",
      "└ @ Main /Users/ricobenning/.julia/packages/MLJModels/nxeCf/src/loading.jl:159\n"
     ]
    },
    {
     "name": "stdout",
     "output_type": "stream",
     "text": [
      "\n",
      "Permutation p-value (tri accuracy) = 0.25149700598802394\n",
      "Permutation p-value (quad accuracy) = 0.33532934131736525\n",
      "Permutation p-value (penta accuracy) = 0.1277445109780439\n"
     ]
    }
   ],
   "source": [
    "LogisticClassifier = @load LogisticClassifier pkg=MLJLinearModels\n",
    "p, acc, null_acc = permutation_test_classifier(X_df, y_binary,\n",
    "                                               LogisticClassifier(); n_perm=500)\n",
    "println(\"Permutation p-value (accuracy) = $p\")\n",
    "\n",
    "\n",
    "p_tri, acc_tri, null_acc_tri = permutation_test_classifier(X_df, y_tri,\n",
    "                                                           LogisticClassifier(); n_perm=500)\n",
    "\n",
    "println(\"Permutation p-value (tri accuracy) = $p_tri\")\n",
    "\n",
    "p_quad, acc_quad, null_acc_quad = permutation_test_classifier(X_df, y_quad,\n",
    "                                                               LogisticClassifier(); n_perm=500)\n",
    "println(\"Permutation p-value (quad accuracy) = $p_quad\")\n",
    "\n",
    "p_penta, acc_penta, null_acc_penta = permutation_test_classifier(X_df, y_penta,\n",
    "                                                                   LogisticClassifier(); n_perm=500)\n",
    "println(\"Permutation p-value (penta accuracy) = $p_penta\")"
   ]
  },
  {
   "cell_type": "code",
   "execution_count": 66,
   "id": "7f744611",
   "metadata": {},
   "outputs": [
    {
     "name": "stderr",
     "output_type": "stream",
     "text": [
      "\u001b[32m\u001b[1m   Resolving\u001b[22m\u001b[39m package versions...\n",
      "\u001b[32m\u001b[1m  No Changes\u001b[22m\u001b[39m to `~/Python_C_ML/Translational Neuromodeling/Project/Project_8/Classification_and_Regression_DCM/Project.toml`\n",
      "\u001b[32m\u001b[1m  No Changes\u001b[22m\u001b[39m to `~/Python_C_ML/Translational Neuromodeling/Project/Project_8/Classification_and_Regression_DCM/Manifest.toml`\n"
     ]
    }
   ],
   "source": [
    "Pkg.add(\"MLJScikitLearnInterface\")\n",
    "Pkg.instantiate()"
   ]
  },
  {
   "cell_type": "code",
   "execution_count": 67,
   "id": "893cc44d-570a-448b-9f03-45b1cacc67e9",
   "metadata": {},
   "outputs": [
    {
     "data": {
      "text/plain": [
       "evaluate_random_forest_model (generic function with 1 method)"
      ]
     },
     "metadata": {},
     "output_type": "display_data"
    }
   ],
   "source": [
    "using MLJScikitLearnInterface\n",
    "function evaluate_random_forest_model(X_df, y, nfolds::Int, label_type::String)\n",
    "    # Load model\n",
    "    RandomForestClassifier = @load RandomForestClassifier pkg=MLJScikitLearnInterface\n",
    "    pipe = RandomForestClassifier()\n",
    "    mach = machine(pipe, X_df, y)\n",
    "\n",
    "    # Setup evaluation\n",
    "    measures = [accuracy, MulticlassFScore(), ConfusionMatrix()]\n",
    "    cv = StratifiedCV(nfolds=nfolds, shuffle=true, rng=42)\n",
    "\n",
    "    # Evaluate\n",
    "    eval_result = evaluate!(\n",
    "        mach,\n",
    "        resampling=cv,\n",
    "        measures=measures,\n",
    "        operation=predict_mode,\n",
    "        verbosity=0,\n",
    "        check_measure=false\n",
    "    )\n",
    "\n",
    "    accs = eval_result.per_fold[1]\n",
    "    f1s = eval_result.per_fold[2]\n",
    "    cmats = eval_result.per_fold[3]\n",
    "\n",
    "    macro_precisions = Float64[]\n",
    "    macro_recalls = Float64[]\n",
    "\n",
    "    for cm in cmats\n",
    "        cmatrix = cm.mat\n",
    "        TP = diag(cmatrix)\n",
    "        FP = sum(cmatrix, dims=1)' .- TP\n",
    "        FN = sum(cmatrix, dims=2) .- TP\n",
    "        support = sum(cmatrix, dims=2)[:]\n",
    "        total = sum(support)\n",
    "\n",
    "        class_precisions = map((tp, fp) -> (tp + fp == 0 ? NaN : tp / (tp + fp)), TP, FP)\n",
    "        class_recalls    = map((tp, fn) -> (tp + fn == 0 ? NaN : tp / (tp + fn)), TP, FN)\n",
    "\n",
    "        macro_precision = mean(skipmissing(class_precisions))\n",
    "        macro_recall    = mean(skipmissing(class_recalls))\n",
    "\n",
    "        push!(macro_precisions, macro_precision)\n",
    "        push!(macro_recalls, macro_recall)\n",
    "    end\n",
    "\n",
    "    # Collect metrics in DataFrame\n",
    "    metrics_df = DataFrame(\n",
    "        Fold = 1:nfolds,\n",
    "        Accuracy = accs,\n",
    "        F1_Score = f1s,\n",
    "        Macro_Precision = macro_precisions,\n",
    "        Macro_Recall = macro_recalls\n",
    "    )\n",
    "\n",
    "    # Add row for averages\n",
    "    avg_row = DataFrame(\n",
    "        Fold = [\"Average\"],\n",
    "        Accuracy = [mean(skipmissing(accs))],\n",
    "        F1_Score = [mean(skipmissing(f1s))],\n",
    "        Macro_Precision = [mean(skipmissing(macro_precisions))],\n",
    "        Macro_Recall = [mean(skipmissing(macro_recalls))]\n",
    "    )\n",
    "\n",
    "    metrics_table = vcat(metrics_df, avg_row)\n",
    "\n",
    "    # Save table as CSV instead (more robust and universally usable)\n",
    "    csv_table_path = \"tables/table_$(nfolds)_grouped_metrics_random_forest_$(label_type).csv\"\n",
    "    CSV.write(csv_table_path, metrics_table)\n",
    "\n",
    "    # Prepare DataFrame for plotting\n",
    "    metrics = [\"Accuracy\", \"F1 Score\", \"Macro Precision\", \"Macro Recall\"]\n",
    "    metric_values = [accs, f1s, macro_precisions, macro_recalls]\n",
    "\n",
    "    plot_df = DataFrame(\n",
    "        Fold = repeat(1:nfolds, outer=length(metrics)),\n",
    "        Metric = repeat(metrics, inner=nfolds),\n",
    "        Value = vcat(metric_values...)\n",
    "    )\n",
    "\n",
    "    # Plot grouped bars\n",
    "    @df plot_df groupedbar(\n",
    "        string.(:Fold), :Value, group=:Metric,\n",
    "        bar_position=:dodge,\n",
    "        bar_width=0.2,\n",
    "        xlabel=\"Fold\", ylabel=\"Metric Value\",\n",
    "        yticks=0:0.05:1.0,\n",
    "        title=\"Random Forest Classification Fold-wise Metrics\",\n",
    "        legend=:outertop,\n",
    "        size=(750, 500),\n",
    "        guidefontsize=10,\n",
    "        tickfontsize=10,\n",
    "        dpi=300\n",
    "    )\n",
    "\n",
    "    savefig(\"figures/$(nfolds)_grouped_metrics_random_forest_$(label_type).png\")\n",
    "end"
   ]
  },
  {
   "cell_type": "code",
   "execution_count": 68,
   "id": "0322cbfc-4264-4c24-b0e3-d58f519b2ae7",
   "metadata": {},
   "outputs": [
    {
     "name": "stderr",
     "output_type": "stream",
     "text": [
      "┌ Info: For silent loading, specify `verbosity=0`. \n",
      "└ @ Main /Users/ricobenning/.julia/packages/MLJModels/nxeCf/src/loading.jl:159\n"
     ]
    },
    {
     "name": "stdout",
     "output_type": "stream",
     "text": [
      "import MLJScikitLearnInterface ✔\n"
     ]
    },
    {
     "name": "stderr",
     "output_type": "stream",
     "text": [
      "┌ Info: For silent loading, specify `verbosity=0`. \n",
      "└ @ Main /Users/ricobenning/.julia/packages/MLJModels/nxeCf/src/loading.jl:159\n"
     ]
    },
    {
     "name": "stdout",
     "output_type": "stream",
     "text": [
      "import MLJScikitLearnInterface ✔\n"
     ]
    },
    {
     "name": "stderr",
     "output_type": "stream",
     "text": [
      "┌ Info: For silent loading, specify `verbosity=0`. \n",
      "└ @ Main /Users/ricobenning/.julia/packages/MLJModels/nxeCf/src/loading.jl:159\n"
     ]
    },
    {
     "name": "stdout",
     "output_type": "stream",
     "text": [
      "import MLJScikitLearnInterface ✔\n"
     ]
    },
    {
     "name": "stderr",
     "output_type": "stream",
     "text": [
      "┌ Info: For silent loading, specify `verbosity=0`. \n",
      "└ @ Main /Users/ricobenning/.julia/packages/MLJModels/nxeCf/src/loading.jl:159\n"
     ]
    },
    {
     "name": "stdout",
     "output_type": "stream",
     "text": [
      "import MLJScikitLearnInterface ✔\n"
     ]
    },
    {
     "name": "stderr",
     "output_type": "stream",
     "text": [
      "┌ Info: For silent loading, specify `verbosity=0`. \n",
      "└ @ Main /Users/ricobenning/.julia/packages/MLJModels/nxeCf/src/loading.jl:159\n"
     ]
    },
    {
     "name": "stdout",
     "output_type": "stream",
     "text": [
      "import MLJScikitLearnInterface ✔\n"
     ]
    },
    {
     "name": "stderr",
     "output_type": "stream",
     "text": [
      "┌ Info: For silent loading, specify `verbosity=0`. \n",
      "└ @ Main /Users/ricobenning/.julia/packages/MLJModels/nxeCf/src/loading.jl:159\n"
     ]
    },
    {
     "name": "stdout",
     "output_type": "stream",
     "text": [
      "import MLJScikitLearnInterface ✔\n"
     ]
    },
    {
     "name": "stderr",
     "output_type": "stream",
     "text": [
      "┌ Info: For silent loading, specify `verbosity=0`. \n",
      "└ @ Main /Users/ricobenning/.julia/packages/MLJModels/nxeCf/src/loading.jl:159\n"
     ]
    },
    {
     "name": "stdout",
     "output_type": "stream",
     "text": [
      "import MLJScikitLearnInterface ✔\n"
     ]
    },
    {
     "name": "stderr",
     "output_type": "stream",
     "text": [
      "┌ Info: For silent loading, specify `verbosity=0`. \n",
      "└ @ Main /Users/ricobenning/.julia/packages/MLJModels/nxeCf/src/loading.jl:159\n"
     ]
    },
    {
     "name": "stdout",
     "output_type": "stream",
     "text": [
      "import MLJScikitLearnInterface ✔\n"
     ]
    },
    {
     "name": "stderr",
     "output_type": "stream",
     "text": [
      "┌ Info: For silent loading, specify `verbosity=0`. \n",
      "└ @ Main /Users/ricobenning/.julia/packages/MLJModels/nxeCf/src/loading.jl:159\n"
     ]
    },
    {
     "name": "stdout",
     "output_type": "stream",
     "text": [
      "import MLJScikitLearnInterface ✔\n"
     ]
    },
    {
     "name": "stderr",
     "output_type": "stream",
     "text": [
      "┌ Info: For silent loading, specify `verbosity=0`. \n",
      "└ @ Main /Users/ricobenning/.julia/packages/MLJModels/nxeCf/src/loading.jl:159\n"
     ]
    },
    {
     "name": "stdout",
     "output_type": "stream",
     "text": [
      "import MLJScikitLearnInterface ✔\n"
     ]
    },
    {
     "name": "stderr",
     "output_type": "stream",
     "text": [
      "┌ Info: For silent loading, specify `verbosity=0`. \n",
      "└ @ Main /Users/ricobenning/.julia/packages/MLJModels/nxeCf/src/loading.jl:159\n"
     ]
    },
    {
     "name": "stdout",
     "output_type": "stream",
     "text": [
      "import MLJScikitLearnInterface ✔\n"
     ]
    },
    {
     "name": "stderr",
     "output_type": "stream",
     "text": [
      "┌ Info: For silent loading, specify `verbosity=0`. \n",
      "└ @ Main /Users/ricobenning/.julia/packages/MLJModels/nxeCf/src/loading.jl:159\n"
     ]
    },
    {
     "name": "stdout",
     "output_type": "stream",
     "text": [
      "import MLJScikitLearnInterface ✔\n"
     ]
    },
    {
     "data": {
      "text/plain": [
       "\"/Users/ricobenning/Python_C_ML/Translational Neuromodeling/Project/Project_8/Classification_and_Regression_DCM/figures/5_grouped_metrics_random_forest_penta.png\""
      ]
     },
     "metadata": {},
     "output_type": "display_data"
    }
   ],
   "source": [
    "#Evaluate random forest model classifier for 3 fold cross validation\n",
    "evaluate_random_forest_model(X_df, y_binary, 3, \"binary\")\n",
    "evaluate_random_forest_model(X_df, y_tri, 3, \"tri\")\n",
    "evaluate_random_forest_model(X_df, y_quad, 3, \"quad\")\n",
    "evaluate_random_forest_model(X_df, y_penta, 3, \"penta\")\n",
    "\n",
    "#Evaluate random forest model classifier for 4 fold cross validation\n",
    "evaluate_random_forest_model(X_df, y_binary, 4, \"binary\")\n",
    "evaluate_random_forest_model(X_df, y_tri, 4, \"tri\")\n",
    "evaluate_random_forest_model(X_df, y_quad, 4, \"quad\")\n",
    "evaluate_random_forest_model(X_df, y_penta, 4, \"penta\")\n",
    "\n",
    "#Evaluate random forest model classifier for 5 fold cross validation\n",
    "evaluate_random_forest_model(X_df, y_binary, 5, \"binary\")\n",
    "evaluate_random_forest_model(X_df, y_tri, 5, \"tri\")\n",
    "evaluate_random_forest_model(X_df, y_quad, 5, \"quad\")\n",
    "evaluate_random_forest_model(X_df, y_penta, 5, \"penta\")"
   ]
  },
  {
   "cell_type": "code",
   "execution_count": 69,
   "id": "075bec85",
   "metadata": {},
   "outputs": [
    {
     "name": "stdout",
     "output_type": "stream",
     "text": [
      "import MLJLinearModels ✔\n",
      "Permutation p-value (accuracy) = 0.6766467065868264"
     ]
    },
    {
     "name": "stderr",
     "output_type": "stream",
     "text": [
      "┌ Info: For silent loading, specify `verbosity=0`. \n",
      "└ @ Main /Users/ricobenning/.julia/packages/MLJModels/nxeCf/src/loading.jl:159\n"
     ]
    },
    {
     "name": "stdout",
     "output_type": "stream",
     "text": [
      "\n",
      "Permutation p-value (tri accuracy) = 0.09780439121756487\n",
      "Permutation p-value (quad accuracy) = 0.4411177644710579\n",
      "Permutation p-value (penta accuracy) = 0.2554890219560878\n"
     ]
    }
   ],
   "source": [
    "LogisticClassifier = @load LogisticClassifier pkg=MLJLinearModels\n",
    "p, acc, null_acc = permutation_test_classifier(X_df, y_binary,\n",
    "                                               LogisticClassifier(); n_perm=500)\n",
    "println(\"Permutation p-value (accuracy) = $p\")\n",
    "\n",
    "\n",
    "p_tri, acc_tri, null_acc_tri = permutation_test_classifier(X_df, y_tri,\n",
    "                                                           LogisticClassifier(); n_perm=500)\n",
    "\n",
    "println(\"Permutation p-value (tri accuracy) = $p_tri\")\n",
    "\n",
    "p_quad, acc_quad, null_acc_quad = permutation_test_classifier(X_df, y_quad,\n",
    "                                                               LogisticClassifier(); n_perm=500)\n",
    "println(\"Permutation p-value (quad accuracy) = $p_quad\")\n",
    "\n",
    "p_penta, acc_penta, null_acc_penta = permutation_test_classifier(X_df, y_penta,\n",
    "                                                                   LogisticClassifier(); n_perm=500)\n",
    "println(\"Permutation p-value (penta accuracy) = $p_penta\")"
   ]
  }
 ],
 "metadata": {
  "kernelspec": {
   "display_name": "Julia 1.11.4",
   "language": "julia",
   "name": "julia-1.11"
  },
  "language_info": {
   "file_extension": ".jl",
   "mimetype": "application/julia",
   "name": "julia",
   "version": "1.11.4"
  }
 },
 "nbformat": 4,
 "nbformat_minor": 5
}
