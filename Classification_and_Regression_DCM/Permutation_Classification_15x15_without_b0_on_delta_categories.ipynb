{
 "cells": [
  {
   "cell_type": "code",
   "execution_count": 1,
   "id": "4c9694f7-53da-49c4-8f0b-368ad5891bd6",
   "metadata": {},
   "outputs": [],
   "source": [
    "# Define the packages\n",
    "using Pkg\n",
    "using CategoricalArrays\n",
    "using MAT\n",
    "using DataFrames\n",
    "using MLJ\n",
    "using LinearAlgebra\n",
    "using Statistics\n",
    "using Plots\n",
    "using StatsPlots\n",
    "using CSV"
   ]
  },
  {
   "cell_type": "code",
   "execution_count": 3,
   "id": "869362ac-7a9e-41a0-a4b1-eac57a97d290",
   "metadata": {},
   "outputs": [
    {
     "data": {
      "text/plain": [
       "26-element CategoricalArray{String,1,UInt32}:\n",
       " \"Strong Response\"\n",
       " \"Strong Response\"\n",
       " \"Remission\"\n",
       " \"Stable\"\n",
       " \"Strong Response\"\n",
       " \"Deterioration\"\n",
       " \"Strong Response\"\n",
       " \"Stable\"\n",
       " \"Remission\"\n",
       " \"Remission\"\n",
       " ⋮\n",
       " \"Stable\"\n",
       " \"Remission\"\n",
       " \"Strong Response\"\n",
       " \"Mild Response\"\n",
       " \"Mild Response\"\n",
       " \"Stable\"\n",
       " \"Stable\"\n",
       " \"Remission\"\n",
       " \"Stable\""
      ]
     },
     "metadata": {},
     "output_type": "display_data"
    }
   ],
   "source": [
    "# sub-MOA101, sub-MOA102, sub-MOA104, sub-MOA105, sub-MOA107, sub-MOA108, sub-MOA109, sub-MOA110, sub-MOA111, sub-MOA112, sub-MOA114,\n",
    "# sub-MOA115, sub-MOA116, sub-MOA118, sub-MOA121, sub-MOA122, sub-MOA123, sub-MOA124, sub-MOA126, sub-MOA127, sub-MOA128, sub-MOA130,\n",
    "# sub-MOA131, sub-MOA133, sub-MOA134, sub-MOA135\n",
    "\n",
    "# Binary treatment response categories\n",
    "y_binary = (\"Response\",\"Response\",\"Response\",\"No Response\",\"Response\",\"No Response\",\"Response\",\"No Response\",\"Response\",\"Response\",\n",
    "    \"No Response\",\"No Response\",\"Response\",\"Response\",\"No Response\",\"No Response\",\"No Response\",\"No Response\",\"Response\",\"Response\",\n",
    "    \"No Response\", \"No Response\" ,\"No Response\", \"No Response\",\"Response\", \"No Response\")\n",
    "\n",
    "# Tri label response categories\n",
    "y_tri = (\"Partial Response\",\"Partial Response\",\"Remission\",\"No Response\",\"Partial Response\",\"No Response\",\"Partial Response\",\"No Response\",\n",
    "    \"Remission\", \"Remission\",\"Partial Response\",\"Partial Response\",\"Partial Response\",\"Remission\",\"No Response\",\"No Response\",\n",
    "    \"Partial Response\",\"No Response\",\"Remission\",\"Partial Response\",\"Partial Response\",\"Partial Response\",\"No Response\",\"No Response\",\n",
    "    \"Remission\",\"No Response\")\n",
    "\n",
    "# Quad label response categories\n",
    "y_quad = (\"Partial Response\",\"Partial Response\",\"Remission\",\"Stable\",\"Partial Response\",\"Deterioration\",\"Partial Response\",\"Stable\",\n",
    "    \"Remission\",\"Remission\",\"Partial Response\",\"Partial Response\",\"Partial Response\",\"Remission\",\"Stable\",\"Deterioration\", \"Stable\",\n",
    "    \"Stable\",\"Remission\",\"Partial Response\",\"Partial Response\",\"Partial Response\",\"Stable\",\"Stable\",\"Remission\",\"Stable\")\n",
    "\n",
    "# Penta label response categories\n",
    "y_penta = (\"Strong Response\",\"Strong Response\",\"Remission\",\"Stable\",\"Strong Response\",\"Deterioration\",\"Strong Response\",\"Stable\",\n",
    "    \"Remission\",\"Remission\",\"Mild Response\",\"Mild Response\",\"Strong Response\",\"Remission\",\"Stable\",\"Deterioration\",\"Stable\",\"Stable\",\n",
    "    \"Remission\",\"Strong Response\",\"Mild Response\",\"Mild Response\",\"Stable\",\"Stable\",\"Remission\",\"Stable\")\n",
    "\n",
    "\n",
    "\n",
    "# Convert to CategoricalArray\n",
    "y_binary = categorical(collect(y_binary))\n",
    "y_tri = categorical(collect(y_tri))\n",
    "y_quad = categorical(collect(y_quad))\n",
    "y_penta = categorical(collect(y_penta))\n"
   ]
  },
  {
   "cell_type": "code",
   "execution_count": 4,
   "id": "091dd8fa",
   "metadata": {},
   "outputs": [
    {
     "name": "stderr",
     "output_type": "stream",
     "text": [
      "\u001b[32m\u001b[1m   Resolving\u001b[22m\u001b[39m package versions...\n",
      "\u001b[32m\u001b[1m  No Changes\u001b[22m\u001b[39m to `~/Python_C_ML/Translational Neuromodeling/Project/Project_8/Classification_and_Regression_DCM/Project.toml`\n",
      "\u001b[32m\u001b[1m  No Changes\u001b[22m\u001b[39m to `~/Python_C_ML/Translational Neuromodeling/Project/Project_8/Classification_and_Regression_DCM/Manifest.toml`\n"
     ]
    }
   ],
   "source": [
    "Pkg.add(\"ProgressMeter\")\n",
    "Pkg.instantiate()"
   ]
  },
  {
   "cell_type": "code",
   "execution_count": 5,
   "id": "5f3cbd31",
   "metadata": {},
   "outputs": [
    {
     "data": {
      "text/plain": [
       "permutation_test_classifier"
      ]
     },
     "metadata": {},
     "output_type": "display_data"
    }
   ],
   "source": [
    "using Random, Statistics, ProgressMeter\n",
    "\n",
    "\"\"\"\n",
    "    permutation_test_classifier(\n",
    "        X::Tables.AbstractColumns, y::AbstractVector,\n",
    "        model; cv=nothing, n_perm=1000, measure=accuracy, rng=Random.default_rng()\n",
    "    ) → (p, observed, null_dist)\n",
    "\n",
    "Exact-label permutation test for classification metrics.\n",
    "\n",
    "* `model`     - an MLJ model instance (e.g. LogisticClassifier()).\n",
    "* `cv`        - a pre-built `StratifiedCV` or `CV`; if `nothing` a 5-fold stratified CV is built.\n",
    "* `n_perm`    - number of label shuffles.\n",
    "* `measure`   - any MLJ measure (default = `accuracy`).\n",
    "\n",
    "Returns the *p*-value, the observed score, and the vector of permuted scores.\n",
    "\"\"\"\n",
    "function permutation_test_classifier(X, y, model;\n",
    "        cv=nothing, n_perm::Int=1000,\n",
    "        measure=accuracy, rng=Random.default_rng())\n",
    "\n",
    "    cv === nothing && (cv = StratifiedCV(nfolds=5, shuffle=true, rng=rng))\n",
    "    obs_mach = machine(model, X, y)\n",
    "    obs_result = evaluate!(obs_mach; resampling=cv, measures=[measure],\n",
    "                           operation=predict_mode, verbosity=0)\n",
    "    observed = mean(obs_result.per_fold[1])\n",
    "\n",
    "    null_scores = Float64[]\n",
    "    @showprogress 1 \"Permutation test…\" for _ in 1:n_perm\n",
    "        y_perm = shuffle(rng, y)\n",
    "        perm_mach = machine(model, X, y_perm)\n",
    "        res = evaluate!(perm_mach; resampling=cv, measures=[measure],\n",
    "                        operation=predict_mode, verbosity=0)\n",
    "        push!(null_scores, mean(res.per_fold[1]))\n",
    "    end\n",
    "    # one-sided p-value (H_0: score is not better than chance)\n",
    "    p = (count(>=(observed), null_scores) + 1) / (n_perm + 1)\n",
    "\n",
    "    return p, observed, null_scores\n",
    "end\n",
    "\n"
   ]
  },
  {
   "cell_type": "code",
   "execution_count": 6,
   "id": "1863b582-72b3-4cc1-9335-75cfc9b3f72b",
   "metadata": {},
   "outputs": [
    {
     "name": "stdout",
     "output_type": "stream",
     "text": [
      "✅ Found spDCM_rsTozzi.mat for 26 out of 26 subjects.\n"
     ]
    }
   ],
   "source": [
    "# List of subjects that have some degree of depression\n",
    "target_subjects = [\n",
    "    \"sub-MOA101\", \"sub-MOA102\", \"sub-MOA104\", \"sub-MOA105\", \"sub-MOA107\", \"sub-MOA108\", \"sub-MOA109\", \"sub-MOA110\", \"sub-MOA111\",\n",
    "    \"sub-MOA112\", \"sub-MOA114\", \"sub-MOA115\", \"sub-MOA116\", \"sub-MOA118\", \"sub-MOA121\", \"sub-MOA122\", \"sub-MOA123\",\"sub-MOA124\", \n",
    "    \"sub-MOA126\", \"sub-MOA127\", \"sub-MOA128\", \"sub-MOA130\", \"sub-MOA131\", \"sub-MOA133\", \"sub-MOA134\", \"sub-MOA135\"]\n",
    "\n",
    "# Base path to your subject folders\n",
    "base_path = \"Spectral_DCM_Collection_15x15\"\n",
    "\n",
    "# Collect valid file paths\n",
    "valid_files = String[]\n",
    "\n",
    "for subj in target_subjects\n",
    "    subj_path = joinpath(base_path, subj)\n",
    "    ses_path = joinpath(subj_path, \"ses-b0\")\n",
    "    glm_path = joinpath(ses_path, \"glm\")\n",
    "    dcm_file = joinpath(glm_path, \"spDCM_rsTozzi.mat\")\n",
    "\n",
    "    if !isdir(ses_path)\n",
    "        @warn \"Missing session folder: $ses_path\"\n",
    "    elseif !isfile(dcm_file)\n",
    "        @warn \"Missing spDCM_rsTozzi.mat for $subj\"\n",
    "    else\n",
    "        push!(valid_files, dcm_file)\n",
    "    end\n",
    "end\n",
    "\n",
    "println(\"✅ Found spDCM_rsTozzi.mat for $(length(valid_files)) out of $(length(target_subjects)) subjects.\")\n"
   ]
  },
  {
   "cell_type": "code",
   "execution_count": 7,
   "id": "45eaa8ce-65ec-41b3-ae87-c89b4a34f9b0",
   "metadata": {},
   "outputs": [
    {
     "data": {
      "text/plain": [
       "extract_features (generic function with 1 method)"
      ]
     },
     "metadata": {},
     "output_type": "display_data"
    }
   ],
   "source": [
    "# Extract A matrix features as a flat 16-element vector\n",
    "function extract_features(file)\n",
    "    mat = matread(file)\n",
    "    A = mat[\"params\"]  # 4×4 matrix\n",
    "    return vec(Matrix(A))  # Flatten to 16-element vector\n",
    "end"
   ]
  },
  {
   "cell_type": "code",
   "execution_count": 8,
   "id": "c3ac567d-e9ef-47c6-bb49-1c8c8c5566c5",
   "metadata": {},
   "outputs": [],
   "source": [
    "# Create feature dataset\n",
    "X = hcat([extract_features(file) for file in valid_files]...)'\n",
    "\n",
    "X_df = DataFrame(X, :auto)  # convert to MLJ-compatible table\n",
    "\n",
    "# Ensure that the number of subjects match in X_df and Y labels of different modalities\n",
    "@assert size(X_df, 1) == length(y_binary) \"Mismatch between number of samples in X and y_binary\"\n",
    "@assert size(X_df, 1) == length(y_tri) \"Mismatch between number of samples in X and y_tri\"\n",
    "@assert size(X_df, 1) == length(y_quad) \"Mismatch between number of samples in X and y_quad\"\n",
    "@assert size(X_df, 1) == length(y_penta) \"Mismatch between number of samples in X and y_penta\""
   ]
  },
  {
   "cell_type": "code",
   "execution_count": 9,
   "id": "8e099112-74d5-4a2d-90a5-8c15ff4b9c93",
   "metadata": {},
   "outputs": [
    {
     "data": {
      "text/plain": [
       "evaluate_logistic_model (generic function with 1 method)"
      ]
     },
     "metadata": {},
     "output_type": "display_data"
    }
   ],
   "source": [
    "function evaluate_logistic_model(X_df, y, nfolds::Int, label_type::String)\n",
    "    # Load model\n",
    "    LogisticClassifier = @load LogisticClassifier pkg=MLJLinearModels\n",
    "    pipe = LogisticClassifier()\n",
    "    mach = machine(pipe, X_df, y)\n",
    "\n",
    "    # Setup evaluation\n",
    "    measures = [accuracy, MulticlassFScore(), ConfusionMatrix()]\n",
    "    cv = StratifiedCV(nfolds=nfolds, shuffle=true, rng=42)\n",
    "\n",
    "    # Evaluate\n",
    "    eval_result = evaluate!(\n",
    "        mach,\n",
    "        resampling=cv,\n",
    "        measures=measures,\n",
    "        operation=predict_mode,\n",
    "        verbosity=0,\n",
    "        check_measure=false\n",
    "    )\n",
    "\n",
    "    accs = eval_result.per_fold[1]\n",
    "    f1s = eval_result.per_fold[2]\n",
    "    cmats = eval_result.per_fold[3]\n",
    "\n",
    "    macro_precisions = Float64[]\n",
    "    macro_recalls = Float64[]\n",
    "\n",
    "    for cm in cmats\n",
    "        cmatrix = cm.mat\n",
    "        TP = diag(cmatrix)\n",
    "        FP = sum(cmatrix, dims=1)' .- TP\n",
    "        FN = sum(cmatrix, dims=2) .- TP\n",
    "        support = sum(cmatrix, dims=2)[:]\n",
    "        total = sum(support)\n",
    "\n",
    "        class_precisions = map((tp, fp) -> (tp + fp == 0 ? NaN : tp / (tp + fp)), TP, FP)\n",
    "        class_recalls    = map((tp, fn) -> (tp + fn == 0 ? NaN : tp / (tp + fn)), TP, FN)\n",
    "\n",
    "        macro_precision = mean(skipmissing(class_precisions))\n",
    "        macro_recall    = mean(skipmissing(class_recalls))\n",
    "\n",
    "        push!(macro_precisions, macro_precision)\n",
    "        push!(macro_recalls, macro_recall)\n",
    "    end\n",
    "\n",
    "    # Collect metrics in DataFrame\n",
    "    metrics_df = DataFrame(\n",
    "        Fold = 1:nfolds,\n",
    "        Accuracy = accs,\n",
    "        F1_Score = f1s,\n",
    "        Macro_Precision = macro_precisions,\n",
    "        Macro_Recall = macro_recalls\n",
    "    )\n",
    "\n",
    "    # Add row for averages\n",
    "    avg_row = DataFrame(\n",
    "        Fold = [\"Average\"],\n",
    "        Accuracy = [mean(skipmissing(accs))],\n",
    "        F1_Score = [mean(skipmissing(f1s))],\n",
    "        Macro_Precision = [mean(skipmissing(macro_precisions))],\n",
    "        Macro_Recall = [mean(skipmissing(macro_recalls))]\n",
    "    )\n",
    "\n",
    "    metrics_table = vcat(metrics_df, avg_row)\n",
    "\n",
    "    # Save table as CSV instead (more robust and universally usable)\n",
    "    csv_table_path = \"tables/table_$(nfolds)_grouped_metrics_logistics_$(label_type)_15x15.csv\"\n",
    "    CSV.write(csv_table_path, metrics_table)\n",
    "\n",
    "    # Prepare DataFrame for plotting\n",
    "    metrics = [\"Accuracy\", \"F1 Score\", \"Macro Precision\", \"Macro Recall\"]\n",
    "    metric_values = [accs, f1s, macro_precisions, macro_recalls]\n",
    "\n",
    "    plot_df = DataFrame(\n",
    "        Fold = repeat(1:nfolds, outer=length(metrics)),\n",
    "        Metric = repeat(metrics, inner=nfolds),\n",
    "        Value = vcat(metric_values...)\n",
    "    )\n",
    "\n",
    "    # Plot grouped bars\n",
    "    @df plot_df groupedbar(\n",
    "        string.(:Fold), :Value, group=:Metric,\n",
    "        bar_position=:dodge,\n",
    "        bar_width=0.2,\n",
    "        xlabel=\"Fold\", ylabel=\"Metric Value\",\n",
    "        yticks=0:0.05:1.0,\n",
    "        title=\"Logistic Classification Fold-wise Metrics\",\n",
    "        legend=:outertop,\n",
    "        size=(750, 500),\n",
    "        guidefontsize=10,\n",
    "        tickfontsize=10,\n",
    "        dpi=300\n",
    "    )\n",
    "\n",
    "    savefig(\"figures/$(nfolds)_grouped_metrics_logistics_$(label_type)_15x15.png\")\n",
    "end"
   ]
  },
  {
   "cell_type": "code",
   "execution_count": 10,
   "id": "3a5cb614-2277-4c71-b6bf-228d87073ea6",
   "metadata": {},
   "outputs": [],
   "source": [
    "# #Evaluate logistic model classifier for 3 fold cross validation\n",
    "# evaluate_logistic_model(X_df, y_binary, 3, \"binary\")\n",
    "# evaluate_logistic_model(X_df, y_tri, 3, \"tri\")\n",
    "# evaluate_logistic_model(X_df, y_quad, 3, \"quad\")\n",
    "# evaluate_logistic_model(X_df, y_penta, 3, \"penta\")\n",
    "\n",
    "# #Evaluate logistic model classifier for 4 fold cross validation\n",
    "# evaluate_logistic_model(X_df, y_binary, 4, \"binary\")\n",
    "# evaluate_logistic_model(X_df, y_tri, 4, \"tri\")\n",
    "# evaluate_logistic_model(X_df, y_quad, 4, \"quad\")\n",
    "# evaluate_logistic_model(X_df, y_penta, 4, \"penta\")\n",
    "\n",
    "# #Evaluate logistic model classifier for 5 fold cross validation\n",
    "# evaluate_logistic_model(X_df, y_binary, 5, \"binary\")\n",
    "# evaluate_logistic_model(X_df, y_tri, 5, \"tri\")\n",
    "# evaluate_logistic_model(X_df, y_quad, 5, \"quad\")\n",
    "# evaluate_logistic_model(X_df, y_penta, 5, \"penta\")"
   ]
  },
  {
   "cell_type": "code",
   "execution_count": 11,
   "id": "8013ec77",
   "metadata": {},
   "outputs": [
    {
     "data": {
      "text/plain": [
       "evaluate_and_save_logistic_models"
      ]
     },
     "metadata": {},
     "output_type": "display_data"
    }
   ],
   "source": [
    "using DataFrames\n",
    "using CSV\n",
    "using MLJ\n",
    "using MLJLinearModels\n",
    "\n",
    "\"\"\"\n",
    "    evaluate_and_save_logistic_models(X_df, y_binary, y_tri, y_quad, y_penta; n_perm=500, outpath=\"evaluation_results.csv\")\n",
    "\n",
    "Runs 'evaluate_logistic_model' for 3-, 4-, and 5-fold cross-validation on each of\n",
    "the targets (binary, tri, quad, penta), then runs a permutation test for each target\n",
    "(using 'permutation_test_classifier' with 'n_perm' permutations). Collects all results\n",
    "into a single DataFrame and writes it out to `outpath` in CSV format.\n",
    "\n",
    "# Arguments\n",
    "- 'X_df' : feature table (DataFrame or MLJ‐compatible table).\n",
    "- 'y_binary', 'y_tri', 'y_quad', 'y_penta' : categorical target vectors for each label type.\n",
    "- 'n_perm' : number of permutations for each permutation test (default: 500).\n",
    "- 'outpath' : file path for saving the results CSV (default: \"evaluation_results.csv\").\n",
    "\n",
    "# Returns\n",
    "A 'DataFrame' with columns:\n",
    "- :fold (Int) — the number of CV folds used (3, 4, or 5).\n",
    "- :target (String) — one of \"binary\", \"tri\", \"quad\", \"penta\".\n",
    "- :eval_result (Any) — whatever 'evaluate_logistic_model' returned (usually a DataFrame of per-fold metrics plus average).\n",
    "- :perm_p_value (Float64) — p-value from the permutation test.\n",
    "- :perm_observed_accuracy (Float64) — observed accuracy from the permutation test.\n",
    "- :perm_null_mean_accuracy (Float64) — mean of the null accuracies (mean(null_scores)).\n",
    "\n",
    "The CSV will be saved to outpath.\n",
    "\"\"\"\n",
    "function evaluate_and_save_logistic_models(\n",
    "    X_df,\n",
    "    y_binary,\n",
    "    y_tri,\n",
    "    y_quad,\n",
    "    y_penta;\n",
    "    n_perm::Int = 500,\n",
    "    outpath::AbstractString = \"evaluation_results.csv\"\n",
    ")\n",
    "    # Load the logistic classifier once\n",
    "    LogisticClassifier = @load LogisticClassifier pkg = MLJLinearModels\n",
    "\n",
    "    folds = [3, 4, 5]\n",
    "    y_list = [y_binary, y_tri, y_quad, y_penta]\n",
    "    labels = [\"binary\", \"tri\", \"quad\", \"penta\"]\n",
    "\n",
    "    # Prepare an empty DataFrame to collect all results\n",
    "    results = DataFrame(\n",
    "        fold                     = Int[],\n",
    "        target                   = String[],\n",
    "        eval_result              = Any[],\n",
    "        perm_p_value             = Float64[],\n",
    "        perm_observed_accuracy   = Float64[],\n",
    "        perm_null_mean_accuracy  = Float64[],\n",
    "    )\n",
    "\n",
    "    for fold in folds\n",
    "        for (y, label) in zip(y_list, labels)\n",
    "            # 1) Run the k‐fold evaluation\n",
    "            eval_res = evaluate_logistic_model(X_df, y, fold, label)\n",
    "\n",
    "            # 2) Run the permutation test on this same target\n",
    "            p_val, acc_obs, acc_null = permutation_test_classifier(\n",
    "                X_df,\n",
    "                y,\n",
    "                LogisticClassifier(); \n",
    "                n_perm = n_perm\n",
    "            )\n",
    "\n",
    "            null_mean = mean(acc_null)\n",
    "\n",
    "            # 3) Append a row to the DataFrame\n",
    "            push!(\n",
    "                results,\n",
    "                (\n",
    "                    fold,\n",
    "                    label,\n",
    "                    eval_res,\n",
    "                    p_val,\n",
    "                    acc_obs,\n",
    "                    null_mean,\n",
    "                )\n",
    "            )\n",
    "        end\n",
    "    end\n",
    "\n",
    "    # 4) Write to CSV\n",
    "    CSV.write(outpath, results)\n",
    "\n",
    "    return results\n",
    "end\n"
   ]
  },
  {
   "cell_type": "code",
   "execution_count": 12,
   "id": "3b4b24fa",
   "metadata": {},
   "outputs": [
    {
     "name": "stderr",
     "output_type": "stream",
     "text": [
      "┌ Info: For silent loading, specify `verbosity=0`. \n",
      "└ @ Main /Users/ricobenning/.julia/packages/MLJModels/nxeCf/src/loading.jl:159\n"
     ]
    },
    {
     "name": "stdout",
     "output_type": "stream",
     "text": [
      "import MLJLinearModels ✔\n"
     ]
    },
    {
     "name": "stderr",
     "output_type": "stream",
     "text": [
      "┌ Info: For silent loading, specify `verbosity=0`. \n",
      "└ @ Main /Users/ricobenning/.julia/packages/MLJModels/nxeCf/src/loading.jl:159\n"
     ]
    },
    {
     "name": "stdout",
     "output_type": "stream",
     "text": [
      "import MLJLinearModels ✔\n"
     ]
    },
    {
     "name": "stderr",
     "output_type": "stream",
     "text": [
      "\u001b[32mPermutation test… 100%|██████████████████████████████████| Time: 0:00:01\u001b[39m\u001b[K\n",
      "┌ Info: For silent loading, specify `verbosity=0`. \n",
      "└ @ Main /Users/ricobenning/.julia/packages/MLJModels/nxeCf/src/loading.jl:159\n"
     ]
    },
    {
     "name": "stdout",
     "output_type": "stream",
     "text": [
      "import MLJLinearModels ✔\n"
     ]
    },
    {
     "name": "stderr",
     "output_type": "stream",
     "text": [
      "\u001b[32mPermutation test… 100%|██████████████████████████████████| Time: 0:00:02\u001b[39m\u001b[K\n"
     ]
    },
    {
     "name": "stdout",
     "output_type": "stream",
     "text": [
      "import MLJLinearModels ✔\n"
     ]
    },
    {
     "name": "stderr",
     "output_type": "stream",
     "text": [
      "┌ Info: For silent loading, specify `verbosity=0`. \n",
      "└ @ Main /Users/ricobenning/.julia/packages/MLJModels/nxeCf/src/loading.jl:159\n",
      "\u001b[32mPermutation test… 100%|██████████████████████████████████| Time: 0:00:02\u001b[39m\u001b[K\n"
     ]
    },
    {
     "name": "stdout",
     "output_type": "stream",
     "text": [
      "import MLJLinearModels ✔\n"
     ]
    },
    {
     "name": "stderr",
     "output_type": "stream",
     "text": [
      "┌ Info: For silent loading, specify `verbosity=0`. \n",
      "└ @ Main /Users/ricobenning/.julia/packages/MLJModels/nxeCf/src/loading.jl:159\n",
      "\u001b[32mPermutation test… 100%|██████████████████████████████████| Time: 0:00:03\u001b[39m\u001b[K\n"
     ]
    },
    {
     "name": "stdout",
     "output_type": "stream",
     "text": [
      "import MLJLinearModels ✔\n"
     ]
    },
    {
     "name": "stderr",
     "output_type": "stream",
     "text": [
      "┌ Info: For silent loading, specify `verbosity=0`. \n",
      "└ @ Main /Users/ricobenning/.julia/packages/MLJModels/nxeCf/src/loading.jl:159\n",
      "\u001b[32mPermutation test… 100%|██████████████████████████████████| Time: 0:00:01\u001b[39m\u001b[K\n"
     ]
    },
    {
     "name": "stdout",
     "output_type": "stream",
     "text": [
      "import MLJLinearModels ✔\n"
     ]
    },
    {
     "name": "stderr",
     "output_type": "stream",
     "text": [
      "┌ Info: For silent loading, specify `verbosity=0`. \n",
      "└ @ Main /Users/ricobenning/.julia/packages/MLJModels/nxeCf/src/loading.jl:159\n",
      "\u001b[32mPermutation test… 100%|██████████████████████████████████| Time: 0:00:02\u001b[39m\u001b[K\n"
     ]
    },
    {
     "name": "stdout",
     "output_type": "stream",
     "text": [
      "import MLJLinearModels ✔\n"
     ]
    },
    {
     "name": "stderr",
     "output_type": "stream",
     "text": [
      "┌ Info: For silent loading, specify `verbosity=0`. \n",
      "└ @ Main /Users/ricobenning/.julia/packages/MLJModels/nxeCf/src/loading.jl:159\n",
      "\u001b[32mPermutation test… 100%|██████████████████████████████████| Time: 0:00:03\u001b[39m\u001b[K\n"
     ]
    },
    {
     "name": "stdout",
     "output_type": "stream",
     "text": [
      "import MLJLinearModels ✔\n"
     ]
    },
    {
     "name": "stderr",
     "output_type": "stream",
     "text": [
      "┌ Info: For silent loading, specify `verbosity=0`. \n",
      "└ @ Main /Users/ricobenning/.julia/packages/MLJModels/nxeCf/src/loading.jl:159\n",
      "\u001b[32mPermutation test… 100%|██████████████████████████████████| Time: 0:00:03\u001b[39m\u001b[K\n"
     ]
    },
    {
     "name": "stdout",
     "output_type": "stream",
     "text": [
      "import MLJLinearModels ✔\n"
     ]
    },
    {
     "name": "stderr",
     "output_type": "stream",
     "text": [
      "┌ Info: For silent loading, specify `verbosity=0`. \n",
      "└ @ Main /Users/ricobenning/.julia/packages/MLJModels/nxeCf/src/loading.jl:159\n",
      "\u001b[32mPermutation test… 100%|██████████████████████████████████| Time: 0:00:01\u001b[39m\u001b[K\n"
     ]
    },
    {
     "name": "stdout",
     "output_type": "stream",
     "text": [
      "import MLJLinearModels ✔\n"
     ]
    },
    {
     "name": "stderr",
     "output_type": "stream",
     "text": [
      "┌ Info: For silent loading, specify `verbosity=0`. \n",
      "└ @ Main /Users/ricobenning/.julia/packages/MLJModels/nxeCf/src/loading.jl:159\n",
      "\u001b[32mPermutation test… 100%|██████████████████████████████████| Time: 0:00:02\u001b[39m\u001b[K\n"
     ]
    },
    {
     "name": "stdout",
     "output_type": "stream",
     "text": [
      "import MLJLinearModels ✔\n"
     ]
    },
    {
     "name": "stderr",
     "output_type": "stream",
     "text": [
      "┌ Info: For silent loading, specify `verbosity=0`. \n",
      "└ @ Main /Users/ricobenning/.julia/packages/MLJModels/nxeCf/src/loading.jl:159\n",
      "\u001b[32mPermutation test… 100%|██████████████████████████████████| Time: 0:00:02\u001b[39m\u001b[K\n"
     ]
    },
    {
     "name": "stdout",
     "output_type": "stream",
     "text": [
      "import MLJLinearModels ✔\n"
     ]
    },
    {
     "name": "stderr",
     "output_type": "stream",
     "text": [
      "┌ Info: For silent loading, specify `verbosity=0`. \n",
      "└ @ Main /Users/ricobenning/.julia/packages/MLJModels/nxeCf/src/loading.jl:159\n",
      "\u001b[32mPermutation test… 100%|██████████████████████████████████| Time: 0:00:03\u001b[39m\u001b[K\n"
     ]
    },
    {
     "data": {
      "text/html": [
       "<div><div style = \"float: left;\"><span>12×6 DataFrame</span></div><div style = \"clear: both;\"></div></div><div class = \"data-frame\" style = \"overflow-x: scroll;\"><table class = \"data-frame\" style = \"margin-bottom: 6px;\"><thead><tr class = \"header\"><th class = \"rowNumber\" style = \"font-weight: bold; text-align: right;\">Row</th><th style = \"text-align: left;\">fold</th><th style = \"text-align: left;\">target</th><th style = \"text-align: left;\">eval_result</th><th style = \"text-align: left;\">perm_p_value</th><th style = \"text-align: left;\">perm_observed_accuracy</th><th style = \"text-align: left;\">perm_null_mean_accuracy</th></tr><tr class = \"subheader headerLastRow\"><th class = \"rowNumber\" style = \"font-weight: bold; text-align: right;\"></th><th title = \"Int64\" style = \"text-align: left;\">Int64</th><th title = \"String\" style = \"text-align: left;\">String</th><th title = \"Any\" style = \"text-align: left;\">Any</th><th title = \"Float64\" style = \"text-align: left;\">Float64</th><th title = \"Float64\" style = \"text-align: left;\">Float64</th><th title = \"Float64\" style = \"text-align: left;\">Float64</th></tr></thead><tbody><tr><td class = \"rowNumber\" style = \"font-weight: bold; text-align: right;\">1</td><td style = \"text-align: right;\">3</td><td style = \"text-align: left;\">binary</td><td style = \"text-align: left;\">/Users/ricobenning/Python_C_ML/Translational Neuromodeling/Project/Project_8/Classification_and_Regression_DCM/figures/3_grouped_metrics_logistics_binary_15x15.png</td><td style = \"text-align: right;\">0.391218</td><td style = \"text-align: right;\">0.54</td><td style = \"text-align: right;\">0.501933</td></tr><tr><td class = \"rowNumber\" style = \"font-weight: bold; text-align: right;\">2</td><td style = \"text-align: right;\">3</td><td style = \"text-align: left;\">tri</td><td style = \"text-align: left;\">/Users/ricobenning/Python_C_ML/Translational Neuromodeling/Project/Project_8/Classification_and_Regression_DCM/figures/3_grouped_metrics_logistics_tri_15x15.png</td><td style = \"text-align: right;\">0.0798403</td><td style = \"text-align: right;\">0.54</td><td style = \"text-align: right;\">0.367333</td></tr><tr><td class = \"rowNumber\" style = \"font-weight: bold; text-align: right;\">3</td><td style = \"text-align: right;\">3</td><td style = \"text-align: left;\">quad</td><td style = \"text-align: left;\">/Users/ricobenning/Python_C_ML/Translational Neuromodeling/Project/Project_8/Classification_and_Regression_DCM/figures/3_grouped_metrics_logistics_quad_15x15.png</td><td style = \"text-align: right;\">0.0618762</td><td style = \"text-align: right;\">0.466667</td><td style = \"text-align: right;\">0.309013</td></tr><tr><td class = \"rowNumber\" style = \"font-weight: bold; text-align: right;\">4</td><td style = \"text-align: right;\">3</td><td style = \"text-align: left;\">penta</td><td style = \"text-align: left;\">/Users/ricobenning/Python_C_ML/Translational Neuromodeling/Project/Project_8/Classification_and_Regression_DCM/figures/3_grouped_metrics_logistics_penta_15x15.png</td><td style = \"text-align: right;\">0.0159681</td><td style = \"text-align: right;\">0.466667</td><td style = \"text-align: right;\">0.23492</td></tr><tr><td class = \"rowNumber\" style = \"font-weight: bold; text-align: right;\">5</td><td style = \"text-align: right;\">4</td><td style = \"text-align: left;\">binary</td><td style = \"text-align: left;\">/Users/ricobenning/Python_C_ML/Translational Neuromodeling/Project/Project_8/Classification_and_Regression_DCM/figures/4_grouped_metrics_logistics_binary_15x15.png</td><td style = \"text-align: right;\">0.409182</td><td style = \"text-align: right;\">0.533333</td><td style = \"text-align: right;\">0.502813</td></tr><tr><td class = \"rowNumber\" style = \"font-weight: bold; text-align: right;\">6</td><td style = \"text-align: right;\">4</td><td style = \"text-align: left;\">tri</td><td style = \"text-align: left;\">/Users/ricobenning/Python_C_ML/Translational Neuromodeling/Project/Project_8/Classification_and_Regression_DCM/figures/4_grouped_metrics_logistics_tri_15x15.png</td><td style = \"text-align: right;\">0.0658683</td><td style = \"text-align: right;\">0.513333</td><td style = \"text-align: right;\">0.354373</td></tr><tr><td class = \"rowNumber\" style = \"font-weight: bold; text-align: right;\">7</td><td style = \"text-align: right;\">4</td><td style = \"text-align: left;\">quad</td><td style = \"text-align: left;\">/Users/ricobenning/Python_C_ML/Translational Neuromodeling/Project/Project_8/Classification_and_Regression_DCM/figures/4_grouped_metrics_logistics_quad_15x15.png</td><td style = \"text-align: right;\">0.461078</td><td style = \"text-align: right;\">0.313333</td><td style = \"text-align: right;\">0.308467</td></tr><tr><td class = \"rowNumber\" style = \"font-weight: bold; text-align: right;\">8</td><td style = \"text-align: right;\">4</td><td style = \"text-align: left;\">penta</td><td style = \"text-align: left;\">/Users/ricobenning/Python_C_ML/Translational Neuromodeling/Project/Project_8/Classification_and_Regression_DCM/figures/4_grouped_metrics_logistics_penta_15x15.png</td><td style = \"text-align: right;\">0.205589</td><td style = \"text-align: right;\">0.313333</td><td style = \"text-align: right;\">0.236667</td></tr><tr><td class = \"rowNumber\" style = \"font-weight: bold; text-align: right;\">9</td><td style = \"text-align: right;\">5</td><td style = \"text-align: left;\">binary</td><td style = \"text-align: left;\">/Users/ricobenning/Python_C_ML/Translational Neuromodeling/Project/Project_8/Classification_and_Regression_DCM/figures/5_grouped_metrics_logistics_binary_15x15.png</td><td style = \"text-align: right;\">0.0818363</td><td style = \"text-align: right;\">0.66</td><td style = \"text-align: right;\">0.494267</td></tr><tr><td class = \"rowNumber\" style = \"font-weight: bold; text-align: right;\">10</td><td style = \"text-align: right;\">5</td><td style = \"text-align: left;\">tri</td><td style = \"text-align: left;\">/Users/ricobenning/Python_C_ML/Translational Neuromodeling/Project/Project_8/Classification_and_Regression_DCM/figures/5_grouped_metrics_logistics_tri_15x15.png</td><td style = \"text-align: right;\">0.215569</td><td style = \"text-align: right;\">0.453333</td><td style = \"text-align: right;\">0.361253</td></tr><tr><td class = \"rowNumber\" style = \"font-weight: bold; text-align: right;\">11</td><td style = \"text-align: right;\">5</td><td style = \"text-align: left;\">quad</td><td style = \"text-align: left;\">/Users/ricobenning/Python_C_ML/Translational Neuromodeling/Project/Project_8/Classification_and_Regression_DCM/figures/5_grouped_metrics_logistics_quad_15x15.png</td><td style = \"text-align: right;\">0.287425</td><td style = \"text-align: right;\">0.38</td><td style = \"text-align: right;\">0.315373</td></tr><tr><td class = \"rowNumber\" style = \"font-weight: bold; text-align: right;\">12</td><td style = \"text-align: right;\">5</td><td style = \"text-align: left;\">penta</td><td style = \"text-align: left;\">/Users/ricobenning/Python_C_ML/Translational Neuromodeling/Project/Project_8/Classification_and_Regression_DCM/figures/5_grouped_metrics_logistics_penta_15x15.png</td><td style = \"text-align: right;\">0.433134</td><td style = \"text-align: right;\">0.24</td><td style = \"text-align: right;\">0.236813</td></tr></tbody></table></div>"
      ],
      "text/latex": [
       "\\begin{tabular}{r|cccc}\n",
       "\t& fold & target & eval\\_result & \\\\\n",
       "\t\\hline\n",
       "\t& Int64 & String & Any & \\\\\n",
       "\t\\hline\n",
       "\t1 & 3 & binary & /Users/ricobenning/Python\\_C\\_ML/Translational Neuromodeling/Project/Project\\_8/Classification\\_and\\_Regression\\_DCM/figures/3\\_grouped\\_metrics\\_logistics\\_binary\\_15x15.png & $\\dots$ \\\\\n",
       "\t2 & 3 & tri & /Users/ricobenning/Python\\_C\\_ML/Translational Neuromodeling/Project/Project\\_8/Classification\\_and\\_Regression\\_DCM/figures/3\\_grouped\\_metrics\\_logistics\\_tri\\_15x15.png & $\\dots$ \\\\\n",
       "\t3 & 3 & quad & /Users/ricobenning/Python\\_C\\_ML/Translational Neuromodeling/Project/Project\\_8/Classification\\_and\\_Regression\\_DCM/figures/3\\_grouped\\_metrics\\_logistics\\_quad\\_15x15.png & $\\dots$ \\\\\n",
       "\t4 & 3 & penta & /Users/ricobenning/Python\\_C\\_ML/Translational Neuromodeling/Project/Project\\_8/Classification\\_and\\_Regression\\_DCM/figures/3\\_grouped\\_metrics\\_logistics\\_penta\\_15x15.png & $\\dots$ \\\\\n",
       "\t5 & 4 & binary & /Users/ricobenning/Python\\_C\\_ML/Translational Neuromodeling/Project/Project\\_8/Classification\\_and\\_Regression\\_DCM/figures/4\\_grouped\\_metrics\\_logistics\\_binary\\_15x15.png & $\\dots$ \\\\\n",
       "\t6 & 4 & tri & /Users/ricobenning/Python\\_C\\_ML/Translational Neuromodeling/Project/Project\\_8/Classification\\_and\\_Regression\\_DCM/figures/4\\_grouped\\_metrics\\_logistics\\_tri\\_15x15.png & $\\dots$ \\\\\n",
       "\t7 & 4 & quad & /Users/ricobenning/Python\\_C\\_ML/Translational Neuromodeling/Project/Project\\_8/Classification\\_and\\_Regression\\_DCM/figures/4\\_grouped\\_metrics\\_logistics\\_quad\\_15x15.png & $\\dots$ \\\\\n",
       "\t8 & 4 & penta & /Users/ricobenning/Python\\_C\\_ML/Translational Neuromodeling/Project/Project\\_8/Classification\\_and\\_Regression\\_DCM/figures/4\\_grouped\\_metrics\\_logistics\\_penta\\_15x15.png & $\\dots$ \\\\\n",
       "\t9 & 5 & binary & /Users/ricobenning/Python\\_C\\_ML/Translational Neuromodeling/Project/Project\\_8/Classification\\_and\\_Regression\\_DCM/figures/5\\_grouped\\_metrics\\_logistics\\_binary\\_15x15.png & $\\dots$ \\\\\n",
       "\t10 & 5 & tri & /Users/ricobenning/Python\\_C\\_ML/Translational Neuromodeling/Project/Project\\_8/Classification\\_and\\_Regression\\_DCM/figures/5\\_grouped\\_metrics\\_logistics\\_tri\\_15x15.png & $\\dots$ \\\\\n",
       "\t11 & 5 & quad & /Users/ricobenning/Python\\_C\\_ML/Translational Neuromodeling/Project/Project\\_8/Classification\\_and\\_Regression\\_DCM/figures/5\\_grouped\\_metrics\\_logistics\\_quad\\_15x15.png & $\\dots$ \\\\\n",
       "\t12 & 5 & penta & /Users/ricobenning/Python\\_C\\_ML/Translational Neuromodeling/Project/Project\\_8/Classification\\_and\\_Regression\\_DCM/figures/5\\_grouped\\_metrics\\_logistics\\_penta\\_15x15.png & $\\dots$ \\\\\n",
       "\\end{tabular}\n"
      ],
      "text/plain": [
       "\u001b[1m12×6 DataFrame\u001b[0m\n",
       "\u001b[1m Row \u001b[0m│\u001b[1m fold  \u001b[0m\u001b[1m target \u001b[0m\u001b[1m eval_result                       \u001b[0m\u001b[1m perm_p_value \u001b[0m\u001b[1m perm_ob\u001b[0m ⋯\n",
       "     │\u001b[90m Int64 \u001b[0m\u001b[90m String \u001b[0m\u001b[90m Any                               \u001b[0m\u001b[90m Float64      \u001b[0m\u001b[90m Float64\u001b[0m ⋯\n",
       "─────┼──────────────────────────────────────────────────────────────────────────\n",
       "   1 │     3  binary  /Users/ricobenning/Python_C_ML/T…     0.391218           ⋯\n",
       "   2 │     3  tri     /Users/ricobenning/Python_C_ML/T…     0.0798403\n",
       "   3 │     3  quad    /Users/ricobenning/Python_C_ML/T…     0.0618762\n",
       "   4 │     3  penta   /Users/ricobenning/Python_C_ML/T…     0.0159681\n",
       "   5 │     4  binary  /Users/ricobenning/Python_C_ML/T…     0.409182           ⋯\n",
       "   6 │     4  tri     /Users/ricobenning/Python_C_ML/T…     0.0658683\n",
       "   7 │     4  quad    /Users/ricobenning/Python_C_ML/T…     0.461078\n",
       "   8 │     4  penta   /Users/ricobenning/Python_C_ML/T…     0.205589\n",
       "   9 │     5  binary  /Users/ricobenning/Python_C_ML/T…     0.0818363          ⋯\n",
       "  10 │     5  tri     /Users/ricobenning/Python_C_ML/T…     0.215569\n",
       "  11 │     5  quad    /Users/ricobenning/Python_C_ML/T…     0.287425\n",
       "  12 │     5  penta   /Users/ricobenning/Python_C_ML/T…     0.433134\n",
       "\u001b[36m                                                               2 columns omitted\u001b[0m"
      ]
     },
     "metadata": {},
     "output_type": "display_data"
    }
   ],
   "source": [
    "df = evaluate_and_save_logistic_models(\n",
    "    X_df, y_binary, y_tri, y_quad, y_penta;\n",
    "    n_perm = 500,\n",
    "    outpath = \"15x15_evaluation_results_logistic.csv\"\n",
    ")\n"
   ]
  },
  {
   "cell_type": "code",
   "execution_count": 16,
   "id": "0d7657cd-e52f-4705-9727-7e485d8cd3a0",
   "metadata": {},
   "outputs": [
    {
     "data": {
      "text/plain": [
       "evaluate_multinomial_classifier_model (generic function with 1 method)"
      ]
     },
     "metadata": {},
     "output_type": "display_data"
    }
   ],
   "source": [
    "function evaluate_multinomial_classifier_model(X_df, y, nfolds::Int, label_type::String)\n",
    "    # Load model\n",
    "    MultinomialClassifier = @load MultinomialClassifier pkg=MLJLinearModels\n",
    "    pipe = MultinomialClassifier()\n",
    "    mach = machine(pipe, X_df, y)\n",
    "\n",
    "    # Setup evaluation\n",
    "    measures = [accuracy, MulticlassFScore(), ConfusionMatrix()]\n",
    "    cv = StratifiedCV(nfolds=nfolds, shuffle=true, rng=42)\n",
    "\n",
    "    # Evaluate\n",
    "    eval_result = evaluate!(\n",
    "        mach,\n",
    "        resampling=cv,\n",
    "        measures=measures,\n",
    "        operation=predict_mode,\n",
    "        verbosity=0,\n",
    "        check_measure=false\n",
    "    )\n",
    "\n",
    "    accs = eval_result.per_fold[1]\n",
    "    f1s = eval_result.per_fold[2]\n",
    "    cmats = eval_result.per_fold[3]\n",
    "\n",
    "    macro_precisions = Float64[]\n",
    "    macro_recalls = Float64[]\n",
    "\n",
    "    for cm in cmats\n",
    "        cmatrix = cm.mat\n",
    "        TP = diag(cmatrix)\n",
    "        FP = sum(cmatrix, dims=1)' .- TP\n",
    "        FN = sum(cmatrix, dims=2) .- TP\n",
    "        support = sum(cmatrix, dims=2)[:]\n",
    "        total = sum(support)\n",
    "\n",
    "        class_precisions = map((tp, fp) -> (tp + fp == 0 ? NaN : tp / (tp + fp)), TP, FP)\n",
    "        class_recalls    = map((tp, fn) -> (tp + fn == 0 ? NaN : tp / (tp + fn)), TP, FN)\n",
    "\n",
    "        macro_precision = mean(skipmissing(class_precisions))\n",
    "        macro_recall    = mean(skipmissing(class_recalls))\n",
    "\n",
    "        push!(macro_precisions, macro_precision)\n",
    "        push!(macro_recalls, macro_recall)\n",
    "    end\n",
    "\n",
    "    # Collect metrics in DataFrame\n",
    "    metrics_df = DataFrame(\n",
    "        Fold = 1:nfolds,\n",
    "        Accuracy = accs,\n",
    "        F1_Score = f1s,\n",
    "        Macro_Precision = macro_precisions,\n",
    "        Macro_Recall = macro_recalls\n",
    "    )\n",
    "\n",
    "    # Add row for averages\n",
    "    avg_row = DataFrame(\n",
    "        Fold = [\"Average\"],\n",
    "        Accuracy = [mean(skipmissing(accs))],\n",
    "        F1_Score = [mean(skipmissing(f1s))],\n",
    "        Macro_Precision = [mean(skipmissing(macro_precisions))],\n",
    "        Macro_Recall = [mean(skipmissing(macro_recalls))]\n",
    "    )\n",
    "\n",
    "    metrics_table = vcat(metrics_df, avg_row)\n",
    "\n",
    "    # Save table as CSV instead (more robust and universally usable)\n",
    "    csv_table_path = \"tables/table_$(nfolds)_grouped_metrics_multinomial_$(label_type)_15x15.csv\"\n",
    "    CSV.write(csv_table_path, metrics_table)\n",
    "\n",
    "    # Prepare DataFrame for plotting\n",
    "    metrics = [\"Accuracy\", \"F1 Score\", \"Macro Precision\", \"Macro Recall\"]\n",
    "    metric_values = [accs, f1s, macro_precisions, macro_recalls]\n",
    "\n",
    "    plot_df = DataFrame(\n",
    "        Fold = repeat(1:nfolds, outer=length(metrics)),\n",
    "        Metric = repeat(metrics, inner=nfolds),\n",
    "        Value = vcat(metric_values...)\n",
    "    )\n",
    "\n",
    "    # Plot grouped bars\n",
    "    @df plot_df groupedbar(\n",
    "        string.(:Fold), :Value, group=:Metric,\n",
    "        bar_position=:dodge,\n",
    "        bar_width=0.2,\n",
    "        xlabel=\"Fold\", ylabel=\"Metric Value\",\n",
    "        yticks=0:0.05:1.0,\n",
    "        title=\"Multinomial Classification Fold-wise Metrics\",\n",
    "        legend=:outertop,\n",
    "        size=(750, 500),\n",
    "        guidefontsize=10,\n",
    "        tickfontsize=10,\n",
    "        dpi=300\n",
    "    )\n",
    "\n",
    "    savefig(\"figures/$(nfolds)_grouped_metrics_multinomial_$(label_type)_15x15.png\")\n",
    "end"
   ]
  },
  {
   "cell_type": "code",
   "execution_count": 17,
   "id": "6beac5e8",
   "metadata": {},
   "outputs": [
    {
     "data": {
      "text/plain": [
       "evaluate_and_save_multinomial (generic function with 1 method)"
      ]
     },
     "metadata": {},
     "output_type": "display_data"
    }
   ],
   "source": [
    "# Permutation test saver for multinomial classifiers\n",
    "\n",
    "function evaluate_and_save_multinomial(\n",
    "    X_df,\n",
    "    y_binary,\n",
    "    y_tri,\n",
    "    y_quad,\n",
    "    y_penta;\n",
    "    n_perm::Int = 500,\n",
    "    outpath::AbstractString = \"evaluation_results.csv\"\n",
    ")\n",
    "    # Load the logistic classifier once\n",
    "    LogisticClassifier = @load LogisticClassifier pkg = MLJLinearModels\n",
    "\n",
    "    folds = [3, 4, 5]\n",
    "    y_list = [y_binary, y_tri, y_quad, y_penta]\n",
    "    labels = [\"binary\", \"tri\", \"quad\", \"penta\"]\n",
    "\n",
    "    # Prepare an empty DataFrame to collect all results\n",
    "    results = DataFrame(\n",
    "        fold                     = Int[],\n",
    "        target                   = String[],\n",
    "        eval_result              = Any[],\n",
    "        perm_p_value             = Float64[],\n",
    "        perm_observed_accuracy   = Float64[],\n",
    "        perm_null_mean_accuracy  = Float64[],\n",
    "    )\n",
    "\n",
    "    for fold in folds\n",
    "        for (y, label) in zip(y_list, labels)\n",
    "            # 1) Run the k‐fold evaluation\n",
    "            eval_res = evaluate_multinomial_classifier_model(X_df, y, fold, label)\n",
    "\n",
    "            # 2) Run the permutation test on this same target\n",
    "            p_val, acc_obs, acc_null = permutation_test_classifier(\n",
    "                X_df,\n",
    "                y,\n",
    "                LogisticClassifier(); \n",
    "                n_perm = n_perm\n",
    "            )\n",
    "\n",
    "            null_mean = mean(acc_null)\n",
    "\n",
    "            # 3) Append a row to the DataFrame\n",
    "            push!(\n",
    "                results,\n",
    "                (\n",
    "                    fold,\n",
    "                    label,\n",
    "                    eval_res,\n",
    "                    p_val,\n",
    "                    acc_obs,\n",
    "                    null_mean,\n",
    "                )\n",
    "            )\n",
    "        end\n",
    "    end\n",
    "\n",
    "    # 4) Write to CSV\n",
    "    CSV.write(outpath, results)\n",
    "\n",
    "    return results\n",
    "end\n"
   ]
  },
  {
   "cell_type": "code",
   "execution_count": 18,
   "id": "ceb29854",
   "metadata": {},
   "outputs": [
    {
     "name": "stderr",
     "output_type": "stream",
     "text": [
      "┌ Info: For silent loading, specify `verbosity=0`. \n",
      "└ @ Main /Users/ricobenning/.julia/packages/MLJModels/nxeCf/src/loading.jl:159\n"
     ]
    },
    {
     "name": "stdout",
     "output_type": "stream",
     "text": [
      "import MLJLinearModels ✔\n",
      "import MLJLinearModels ✔\n"
     ]
    },
    {
     "name": "stderr",
     "output_type": "stream",
     "text": [
      "┌ Info: For silent loading, specify `verbosity=0`. \n",
      "└ @ Main /Users/ricobenning/.julia/packages/MLJModels/nxeCf/src/loading.jl:159\n",
      "\u001b[32mPermutation test… 100%|██████████████████████████████████| Time: 0:00:01\u001b[39m\u001b[K\n"
     ]
    },
    {
     "name": "stdout",
     "output_type": "stream",
     "text": [
      "import MLJLinearModels ✔\n"
     ]
    },
    {
     "name": "stderr",
     "output_type": "stream",
     "text": [
      "┌ Info: For silent loading, specify `verbosity=0`. \n",
      "└ @ Main /Users/ricobenning/.julia/packages/MLJModels/nxeCf/src/loading.jl:159\n",
      "\u001b[32mPermutation test… 100%|██████████████████████████████████| Time: 0:00:02\u001b[39m\u001b[K\n"
     ]
    },
    {
     "name": "stdout",
     "output_type": "stream",
     "text": [
      "import MLJLinearModels ✔\n"
     ]
    },
    {
     "name": "stderr",
     "output_type": "stream",
     "text": [
      "┌ Info: For silent loading, specify `verbosity=0`. \n",
      "└ @ Main /Users/ricobenning/.julia/packages/MLJModels/nxeCf/src/loading.jl:159\n",
      "\u001b[32mPermutation test… 100%|██████████████████████████████████| Time: 0:00:03\u001b[39m\u001b[K\n"
     ]
    },
    {
     "name": "stdout",
     "output_type": "stream",
     "text": [
      "import MLJLinearModels ✔\n"
     ]
    },
    {
     "name": "stderr",
     "output_type": "stream",
     "text": [
      "┌ Info: For silent loading, specify `verbosity=0`. \n",
      "└ @ Main /Users/ricobenning/.julia/packages/MLJModels/nxeCf/src/loading.jl:159\n",
      "\u001b[32mPermutation test… 100%|██████████████████████████████████| Time: 0:00:03\u001b[39m\u001b[K\n"
     ]
    },
    {
     "name": "stdout",
     "output_type": "stream",
     "text": [
      "import MLJLinearModels ✔\n"
     ]
    },
    {
     "name": "stderr",
     "output_type": "stream",
     "text": [
      "┌ Info: For silent loading, specify `verbosity=0`. \n",
      "└ @ Main /Users/ricobenning/.julia/packages/MLJModels/nxeCf/src/loading.jl:159\n",
      "\u001b[32mPermutation test… 100%|██████████████████████████████████| Time: 0:00:01\u001b[39m\u001b[K\n"
     ]
    },
    {
     "name": "stdout",
     "output_type": "stream",
     "text": [
      "import MLJLinearModels ✔\n"
     ]
    },
    {
     "name": "stderr",
     "output_type": "stream",
     "text": [
      "┌ Info: For silent loading, specify `verbosity=0`. \n",
      "└ @ Main /Users/ricobenning/.julia/packages/MLJModels/nxeCf/src/loading.jl:159\n",
      "\u001b[32mPermutation test… 100%|██████████████████████████████████| Time: 0:00:02\u001b[39m\u001b[K\n"
     ]
    },
    {
     "name": "stdout",
     "output_type": "stream",
     "text": [
      "import MLJLinearModels ✔\n"
     ]
    },
    {
     "name": "stderr",
     "output_type": "stream",
     "text": [
      "┌ Info: For silent loading, specify `verbosity=0`. \n",
      "└ @ Main /Users/ricobenning/.julia/packages/MLJModels/nxeCf/src/loading.jl:159\n",
      "\u001b[32mPermutation test… 100%|██████████████████████████████████| Time: 0:00:02\u001b[39m\u001b[K\n"
     ]
    },
    {
     "name": "stdout",
     "output_type": "stream",
     "text": [
      "import MLJLinearModels ✔\n"
     ]
    },
    {
     "name": "stderr",
     "output_type": "stream",
     "text": [
      "┌ Info: For silent loading, specify `verbosity=0`. \n",
      "└ @ Main /Users/ricobenning/.julia/packages/MLJModels/nxeCf/src/loading.jl:159\n",
      "\u001b[32mPermutation test… 100%|██████████████████████████████████| Time: 0:00:03\u001b[39m\u001b[K\n"
     ]
    },
    {
     "name": "stdout",
     "output_type": "stream",
     "text": [
      "import MLJLinearModels ✔\n"
     ]
    },
    {
     "name": "stderr",
     "output_type": "stream",
     "text": [
      "┌ Info: For silent loading, specify `verbosity=0`. \n",
      "└ @ Main /Users/ricobenning/.julia/packages/MLJModels/nxeCf/src/loading.jl:159\n",
      "\u001b[32mPermutation test… 100%|██████████████████████████████████| Time: 0:00:01\u001b[39m\u001b[K\n"
     ]
    },
    {
     "name": "stdout",
     "output_type": "stream",
     "text": [
      "import MLJLinearModels ✔\n"
     ]
    },
    {
     "name": "stderr",
     "output_type": "stream",
     "text": [
      "┌ Info: For silent loading, specify `verbosity=0`. \n",
      "└ @ Main /Users/ricobenning/.julia/packages/MLJModels/nxeCf/src/loading.jl:159\n",
      "\u001b[32mPermutation test… 100%|██████████████████████████████████| Time: 0:00:02\u001b[39m\u001b[K\n"
     ]
    },
    {
     "name": "stdout",
     "output_type": "stream",
     "text": [
      "import MLJLinearModels ✔\n"
     ]
    },
    {
     "name": "stderr",
     "output_type": "stream",
     "text": [
      "┌ Info: For silent loading, specify `verbosity=0`. \n",
      "└ @ Main /Users/ricobenning/.julia/packages/MLJModels/nxeCf/src/loading.jl:159\n",
      "\u001b[32mPermutation test… 100%|██████████████████████████████████| Time: 0:00:03\u001b[39m\u001b[K\n"
     ]
    },
    {
     "name": "stdout",
     "output_type": "stream",
     "text": [
      "import MLJLinearModels ✔\n"
     ]
    },
    {
     "name": "stderr",
     "output_type": "stream",
     "text": [
      "┌ Info: For silent loading, specify `verbosity=0`. \n",
      "└ @ Main /Users/ricobenning/.julia/packages/MLJModels/nxeCf/src/loading.jl:159\n",
      "\u001b[32mPermutation test… 100%|██████████████████████████████████| Time: 0:00:03\u001b[39m\u001b[K\n"
     ]
    },
    {
     "data": {
      "text/html": [
       "<div><div style = \"float: left;\"><span>12×6 DataFrame</span></div><div style = \"clear: both;\"></div></div><div class = \"data-frame\" style = \"overflow-x: scroll;\"><table class = \"data-frame\" style = \"margin-bottom: 6px;\"><thead><tr class = \"header\"><th class = \"rowNumber\" style = \"font-weight: bold; text-align: right;\">Row</th><th style = \"text-align: left;\">fold</th><th style = \"text-align: left;\">target</th><th style = \"text-align: left;\">eval_result</th><th style = \"text-align: left;\">perm_p_value</th><th style = \"text-align: left;\">perm_observed_accuracy</th><th style = \"text-align: left;\">perm_null_mean_accuracy</th></tr><tr class = \"subheader headerLastRow\"><th class = \"rowNumber\" style = \"font-weight: bold; text-align: right;\"></th><th title = \"Int64\" style = \"text-align: left;\">Int64</th><th title = \"String\" style = \"text-align: left;\">String</th><th title = \"Any\" style = \"text-align: left;\">Any</th><th title = \"Float64\" style = \"text-align: left;\">Float64</th><th title = \"Float64\" style = \"text-align: left;\">Float64</th><th title = \"Float64\" style = \"text-align: left;\">Float64</th></tr></thead><tbody><tr><td class = \"rowNumber\" style = \"font-weight: bold; text-align: right;\">1</td><td style = \"text-align: right;\">3</td><td style = \"text-align: left;\">binary</td><td style = \"text-align: left;\">/Users/ricobenning/Python_C_ML/Translational Neuromodeling/Project/Project_8/Classification_and_Regression_DCM/figures/3_grouped_metrics_multinomial_binary_15x15.png</td><td style = \"text-align: right;\">0.532934</td><td style = \"text-align: right;\">0.493333</td><td style = \"text-align: right;\">0.502067</td></tr><tr><td class = \"rowNumber\" style = \"font-weight: bold; text-align: right;\">2</td><td style = \"text-align: right;\">3</td><td style = \"text-align: left;\">tri</td><td style = \"text-align: left;\">/Users/ricobenning/Python_C_ML/Translational Neuromodeling/Project/Project_8/Classification_and_Regression_DCM/figures/3_grouped_metrics_multinomial_tri_15x15.png</td><td style = \"text-align: right;\">0.0319361</td><td style = \"text-align: right;\">0.566667</td><td style = \"text-align: right;\">0.34828</td></tr><tr><td class = \"rowNumber\" style = \"font-weight: bold; text-align: right;\">3</td><td style = \"text-align: right;\">3</td><td style = \"text-align: left;\">quad</td><td style = \"text-align: left;\">/Users/ricobenning/Python_C_ML/Translational Neuromodeling/Project/Project_8/Classification_and_Regression_DCM/figures/3_grouped_metrics_multinomial_quad_15x15.png</td><td style = \"text-align: right;\">0.305389</td><td style = \"text-align: right;\">0.353333</td><td style = \"text-align: right;\">0.307587</td></tr><tr><td class = \"rowNumber\" style = \"font-weight: bold; text-align: right;\">4</td><td style = \"text-align: right;\">3</td><td style = \"text-align: left;\">penta</td><td style = \"text-align: left;\">/Users/ricobenning/Python_C_ML/Translational Neuromodeling/Project/Project_8/Classification_and_Regression_DCM/figures/3_grouped_metrics_multinomial_penta_15x15.png</td><td style = \"text-align: right;\">0.203593</td><td style = \"text-align: right;\">0.32</td><td style = \"text-align: right;\">0.24012</td></tr><tr><td class = \"rowNumber\" style = \"font-weight: bold; text-align: right;\">5</td><td style = \"text-align: right;\">4</td><td style = \"text-align: left;\">binary</td><td style = \"text-align: left;\">/Users/ricobenning/Python_C_ML/Translational Neuromodeling/Project/Project_8/Classification_and_Regression_DCM/figures/4_grouped_metrics_multinomial_binary_15x15.png</td><td style = \"text-align: right;\">0.241517</td><td style = \"text-align: right;\">0.606667</td><td style = \"text-align: right;\">0.51424</td></tr><tr><td class = \"rowNumber\" style = \"font-weight: bold; text-align: right;\">6</td><td style = \"text-align: right;\">4</td><td style = \"text-align: left;\">tri</td><td style = \"text-align: left;\">/Users/ricobenning/Python_C_ML/Translational Neuromodeling/Project/Project_8/Classification_and_Regression_DCM/figures/4_grouped_metrics_multinomial_tri_15x15.png</td><td style = \"text-align: right;\">0.0598802</td><td style = \"text-align: right;\">0.513333</td><td style = \"text-align: right;\">0.35116</td></tr><tr><td class = \"rowNumber\" style = \"font-weight: bold; text-align: right;\">7</td><td style = \"text-align: right;\">4</td><td style = \"text-align: left;\">quad</td><td style = \"text-align: left;\">/Users/ricobenning/Python_C_ML/Translational Neuromodeling/Project/Project_8/Classification_and_Regression_DCM/figures/4_grouped_metrics_multinomial_quad_15x15.png</td><td style = \"text-align: right;\">0.676647</td><td style = \"text-align: right;\">0.266667</td><td style = \"text-align: right;\">0.310893</td></tr><tr><td class = \"rowNumber\" style = \"font-weight: bold; text-align: right;\">8</td><td style = \"text-align: right;\">4</td><td style = \"text-align: left;\">penta</td><td style = \"text-align: left;\">/Users/ricobenning/Python_C_ML/Translational Neuromodeling/Project/Project_8/Classification_and_Regression_DCM/figures/4_grouped_metrics_multinomial_penta_15x15.png</td><td style = \"text-align: right;\">0.566866</td><td style = \"text-align: right;\">0.22</td><td style = \"text-align: right;\">0.237427</td></tr><tr><td class = \"rowNumber\" style = \"font-weight: bold; text-align: right;\">9</td><td style = \"text-align: right;\">5</td><td style = \"text-align: left;\">binary</td><td style = \"text-align: left;\">/Users/ricobenning/Python_C_ML/Translational Neuromodeling/Project/Project_8/Classification_and_Regression_DCM/figures/5_grouped_metrics_multinomial_binary_15x15.png</td><td style = \"text-align: right;\">0.153693</td><td style = \"text-align: right;\">0.62</td><td style = \"text-align: right;\">0.4926</td></tr><tr><td class = \"rowNumber\" style = \"font-weight: bold; text-align: right;\">10</td><td style = \"text-align: right;\">5</td><td style = \"text-align: left;\">tri</td><td style = \"text-align: left;\">/Users/ricobenning/Python_C_ML/Translational Neuromodeling/Project/Project_8/Classification_and_Regression_DCM/figures/5_grouped_metrics_multinomial_tri_15x15.png</td><td style = \"text-align: right;\">0.113772</td><td style = \"text-align: right;\">0.5</td><td style = \"text-align: right;\">0.358493</td></tr><tr><td class = \"rowNumber\" style = \"font-weight: bold; text-align: right;\">11</td><td style = \"text-align: right;\">5</td><td style = \"text-align: left;\">quad</td><td style = \"text-align: left;\">/Users/ricobenning/Python_C_ML/Translational Neuromodeling/Project/Project_8/Classification_and_Regression_DCM/figures/5_grouped_metrics_multinomial_quad_15x15.png</td><td style = \"text-align: right;\">0.135729</td><td style = \"text-align: right;\">0.426667</td><td style = \"text-align: right;\">0.31456</td></tr><tr><td class = \"rowNumber\" style = \"font-weight: bold; text-align: right;\">12</td><td style = \"text-align: right;\">5</td><td style = \"text-align: left;\">penta</td><td style = \"text-align: left;\">/Users/ricobenning/Python_C_ML/Translational Neuromodeling/Project/Project_8/Classification_and_Regression_DCM/figures/5_grouped_metrics_multinomial_penta_15x15.png</td><td style = \"text-align: right;\">0.287425</td><td style = \"text-align: right;\">0.3</td><td style = \"text-align: right;\">0.24564</td></tr></tbody></table></div>"
      ],
      "text/latex": [
       "\\begin{tabular}{r|cccc}\n",
       "\t& fold & target & eval\\_result & \\\\\n",
       "\t\\hline\n",
       "\t& Int64 & String & Any & \\\\\n",
       "\t\\hline\n",
       "\t1 & 3 & binary & /Users/ricobenning/Python\\_C\\_ML/Translational Neuromodeling/Project/Project\\_8/Classification\\_and\\_Regression\\_DCM/figures/3\\_grouped\\_metrics\\_multinomial\\_binary\\_15x15.png & $\\dots$ \\\\\n",
       "\t2 & 3 & tri & /Users/ricobenning/Python\\_C\\_ML/Translational Neuromodeling/Project/Project\\_8/Classification\\_and\\_Regression\\_DCM/figures/3\\_grouped\\_metrics\\_multinomial\\_tri\\_15x15.png & $\\dots$ \\\\\n",
       "\t3 & 3 & quad & /Users/ricobenning/Python\\_C\\_ML/Translational Neuromodeling/Project/Project\\_8/Classification\\_and\\_Regression\\_DCM/figures/3\\_grouped\\_metrics\\_multinomial\\_quad\\_15x15.png & $\\dots$ \\\\\n",
       "\t4 & 3 & penta & /Users/ricobenning/Python\\_C\\_ML/Translational Neuromodeling/Project/Project\\_8/Classification\\_and\\_Regression\\_DCM/figures/3\\_grouped\\_metrics\\_multinomial\\_penta\\_15x15.png & $\\dots$ \\\\\n",
       "\t5 & 4 & binary & /Users/ricobenning/Python\\_C\\_ML/Translational Neuromodeling/Project/Project\\_8/Classification\\_and\\_Regression\\_DCM/figures/4\\_grouped\\_metrics\\_multinomial\\_binary\\_15x15.png & $\\dots$ \\\\\n",
       "\t6 & 4 & tri & /Users/ricobenning/Python\\_C\\_ML/Translational Neuromodeling/Project/Project\\_8/Classification\\_and\\_Regression\\_DCM/figures/4\\_grouped\\_metrics\\_multinomial\\_tri\\_15x15.png & $\\dots$ \\\\\n",
       "\t7 & 4 & quad & /Users/ricobenning/Python\\_C\\_ML/Translational Neuromodeling/Project/Project\\_8/Classification\\_and\\_Regression\\_DCM/figures/4\\_grouped\\_metrics\\_multinomial\\_quad\\_15x15.png & $\\dots$ \\\\\n",
       "\t8 & 4 & penta & /Users/ricobenning/Python\\_C\\_ML/Translational Neuromodeling/Project/Project\\_8/Classification\\_and\\_Regression\\_DCM/figures/4\\_grouped\\_metrics\\_multinomial\\_penta\\_15x15.png & $\\dots$ \\\\\n",
       "\t9 & 5 & binary & /Users/ricobenning/Python\\_C\\_ML/Translational Neuromodeling/Project/Project\\_8/Classification\\_and\\_Regression\\_DCM/figures/5\\_grouped\\_metrics\\_multinomial\\_binary\\_15x15.png & $\\dots$ \\\\\n",
       "\t10 & 5 & tri & /Users/ricobenning/Python\\_C\\_ML/Translational Neuromodeling/Project/Project\\_8/Classification\\_and\\_Regression\\_DCM/figures/5\\_grouped\\_metrics\\_multinomial\\_tri\\_15x15.png & $\\dots$ \\\\\n",
       "\t11 & 5 & quad & /Users/ricobenning/Python\\_C\\_ML/Translational Neuromodeling/Project/Project\\_8/Classification\\_and\\_Regression\\_DCM/figures/5\\_grouped\\_metrics\\_multinomial\\_quad\\_15x15.png & $\\dots$ \\\\\n",
       "\t12 & 5 & penta & /Users/ricobenning/Python\\_C\\_ML/Translational Neuromodeling/Project/Project\\_8/Classification\\_and\\_Regression\\_DCM/figures/5\\_grouped\\_metrics\\_multinomial\\_penta\\_15x15.png & $\\dots$ \\\\\n",
       "\\end{tabular}\n"
      ],
      "text/plain": [
       "\u001b[1m12×6 DataFrame\u001b[0m\n",
       "\u001b[1m Row \u001b[0m│\u001b[1m fold  \u001b[0m\u001b[1m target \u001b[0m\u001b[1m eval_result                       \u001b[0m\u001b[1m perm_p_value \u001b[0m\u001b[1m perm_ob\u001b[0m ⋯\n",
       "     │\u001b[90m Int64 \u001b[0m\u001b[90m String \u001b[0m\u001b[90m Any                               \u001b[0m\u001b[90m Float64      \u001b[0m\u001b[90m Float64\u001b[0m ⋯\n",
       "─────┼──────────────────────────────────────────────────────────────────────────\n",
       "   1 │     3  binary  /Users/ricobenning/Python_C_ML/T…     0.532934           ⋯\n",
       "   2 │     3  tri     /Users/ricobenning/Python_C_ML/T…     0.0319361\n",
       "   3 │     3  quad    /Users/ricobenning/Python_C_ML/T…     0.305389\n",
       "   4 │     3  penta   /Users/ricobenning/Python_C_ML/T…     0.203593\n",
       "   5 │     4  binary  /Users/ricobenning/Python_C_ML/T…     0.241517           ⋯\n",
       "   6 │     4  tri     /Users/ricobenning/Python_C_ML/T…     0.0598802\n",
       "   7 │     4  quad    /Users/ricobenning/Python_C_ML/T…     0.676647\n",
       "   8 │     4  penta   /Users/ricobenning/Python_C_ML/T…     0.566866\n",
       "   9 │     5  binary  /Users/ricobenning/Python_C_ML/T…     0.153693           ⋯\n",
       "  10 │     5  tri     /Users/ricobenning/Python_C_ML/T…     0.113772\n",
       "  11 │     5  quad    /Users/ricobenning/Python_C_ML/T…     0.135729\n",
       "  12 │     5  penta   /Users/ricobenning/Python_C_ML/T…     0.287425\n",
       "\u001b[36m                                                               2 columns omitted\u001b[0m"
      ]
     },
     "metadata": {},
     "output_type": "display_data"
    }
   ],
   "source": [
    "df = evaluate_and_save_multinomial(\n",
    "    X_df, y_binary, y_tri, y_quad, y_penta;\n",
    "    n_perm = 500,\n",
    "    outpath = \"15x15_evaluation_results_multinomial.csv\"\n",
    ")"
   ]
  },
  {
   "cell_type": "code",
   "execution_count": 14,
   "id": "6cdd6959-db26-493f-a739-a38f48cbb775",
   "metadata": {},
   "outputs": [],
   "source": [
    "# #Evaluate multinomial model classifier for 3 fold cross validation\n",
    "# evaluate_multinomial_classifier_model(X_df, y_binary, 3, \"binary\")\n",
    "# evaluate_multinomial_classifier_model(X_df, y_tri, 3, \"tri\")\n",
    "# evaluate_multinomial_classifier_model(X_df, y_quad, 3, \"quad\")\n",
    "# evaluate_multinomial_classifier_model(X_df, y_penta, 3, \"penta\")\n",
    "\n",
    "# #Evaluate multinomial model classifier for 4 fold cross validation\n",
    "# evaluate_multinomial_classifier_model(X_df, y_binary, 4, \"binary\")\n",
    "# evaluate_multinomial_classifier_model(X_df, y_tri, 4, \"tri\")\n",
    "# evaluate_multinomial_classifier_model(X_df, y_quad, 4, \"quad\")\n",
    "# evaluate_multinomial_classifier_model(X_df, y_penta, 4, \"penta\")\n",
    "\n",
    "# #Evaluate multinomial model classifier for 5 fold cross validation\n",
    "# evaluate_multinomial_classifier_model(X_df, y_binary, 5, \"binary\")\n",
    "# evaluate_multinomial_classifier_model(X_df, y_tri, 5, \"tri\")\n",
    "# evaluate_multinomial_classifier_model(X_df, y_quad, 5, \"quad\")\n",
    "# evaluate_multinomial_classifier_model(X_df, y_penta, 5, \"penta\")"
   ]
  },
  {
   "cell_type": "code",
   "execution_count": 19,
   "id": "663892d1",
   "metadata": {},
   "outputs": [
    {
     "name": "stderr",
     "output_type": "stream",
     "text": [
      "\u001b[32m\u001b[1m   Resolving\u001b[22m\u001b[39m package versions...\n",
      "\u001b[32m\u001b[1m  No Changes\u001b[22m\u001b[39m to `~/Python_C_ML/Translational Neuromodeling/Project/Project_8/Classification_and_Regression_DCM/Project.toml`\n",
      "\u001b[32m\u001b[1m  No Changes\u001b[22m\u001b[39m to `~/Python_C_ML/Translational Neuromodeling/Project/Project_8/Classification_and_Regression_DCM/Manifest.toml`\n"
     ]
    }
   ],
   "source": [
    "Pkg.add(\"MLJScikitLearnInterface\")\n",
    "Pkg.instantiate()"
   ]
  },
  {
   "cell_type": "code",
   "execution_count": 20,
   "id": "893cc44d-570a-448b-9f03-45b1cacc67e9",
   "metadata": {},
   "outputs": [
    {
     "data": {
      "text/plain": [
       "evaluate_random_forest_model (generic function with 1 method)"
      ]
     },
     "metadata": {},
     "output_type": "display_data"
    }
   ],
   "source": [
    "using MLJScikitLearnInterface\n",
    "function evaluate_random_forest_model(X_df, y, nfolds::Int, label_type::String)\n",
    "    # Load model\n",
    "    RandomForestClassifier = @load RandomForestClassifier pkg=MLJScikitLearnInterface\n",
    "    pipe = RandomForestClassifier()\n",
    "    mach = machine(pipe, X_df, y)\n",
    "\n",
    "    # Setup evaluation\n",
    "    measures = [accuracy, MulticlassFScore(), ConfusionMatrix()]\n",
    "    cv = StratifiedCV(nfolds=nfolds, shuffle=true, rng=42)\n",
    "\n",
    "    # Evaluate\n",
    "    eval_result = evaluate!(\n",
    "        mach,\n",
    "        resampling=cv,\n",
    "        measures=measures,\n",
    "        operation=predict_mode,\n",
    "        verbosity=0,\n",
    "        check_measure=false\n",
    "    )\n",
    "\n",
    "    accs = eval_result.per_fold[1]\n",
    "    f1s = eval_result.per_fold[2]\n",
    "    cmats = eval_result.per_fold[3]\n",
    "\n",
    "    macro_precisions = Float64[]\n",
    "    macro_recalls = Float64[]\n",
    "\n",
    "    for cm in cmats\n",
    "        cmatrix = cm.mat\n",
    "        TP = diag(cmatrix)\n",
    "        FP = sum(cmatrix, dims=1)' .- TP\n",
    "        FN = sum(cmatrix, dims=2) .- TP\n",
    "        support = sum(cmatrix, dims=2)[:]\n",
    "        total = sum(support)\n",
    "\n",
    "        class_precisions = map((tp, fp) -> (tp + fp == 0 ? NaN : tp / (tp + fp)), TP, FP)\n",
    "        class_recalls    = map((tp, fn) -> (tp + fn == 0 ? NaN : tp / (tp + fn)), TP, FN)\n",
    "\n",
    "        macro_precision = mean(skipmissing(class_precisions))\n",
    "        macro_recall    = mean(skipmissing(class_recalls))\n",
    "\n",
    "        push!(macro_precisions, macro_precision)\n",
    "        push!(macro_recalls, macro_recall)\n",
    "    end\n",
    "\n",
    "    # Collect metrics in DataFrame\n",
    "    metrics_df = DataFrame(\n",
    "        Fold = 1:nfolds,\n",
    "        Accuracy = accs,\n",
    "        F1_Score = f1s,\n",
    "        Macro_Precision = macro_precisions,\n",
    "        Macro_Recall = macro_recalls\n",
    "    )\n",
    "\n",
    "    # Add row for averages\n",
    "    avg_row = DataFrame(\n",
    "        Fold = [\"Average\"],\n",
    "        Accuracy = [mean(skipmissing(accs))],\n",
    "        F1_Score = [mean(skipmissing(f1s))],\n",
    "        Macro_Precision = [mean(skipmissing(macro_precisions))],\n",
    "        Macro_Recall = [mean(skipmissing(macro_recalls))]\n",
    "    )\n",
    "\n",
    "    metrics_table = vcat(metrics_df, avg_row)\n",
    "\n",
    "    # Save table as CSV instead (more robust and universally usable)\n",
    "    csv_table_path = \"tables/table_$(nfolds)_grouped_metrics_random_forest_$(label_type)_15x15.csv\"\n",
    "    CSV.write(csv_table_path, metrics_table)\n",
    "\n",
    "    # Prepare DataFrame for plotting\n",
    "    metrics = [\"Accuracy\", \"F1 Score\", \"Macro Precision\", \"Macro Recall\"]\n",
    "    metric_values = [accs, f1s, macro_precisions, macro_recalls]\n",
    "\n",
    "    plot_df = DataFrame(\n",
    "        Fold = repeat(1:nfolds, outer=length(metrics)),\n",
    "        Metric = repeat(metrics, inner=nfolds),\n",
    "        Value = vcat(metric_values...)\n",
    "    )\n",
    "\n",
    "    # Plot grouped bars\n",
    "    @df plot_df groupedbar(\n",
    "        string.(:Fold), :Value, group=:Metric,\n",
    "        bar_position=:dodge,\n",
    "        bar_width=0.2,\n",
    "        xlabel=\"Fold\", ylabel=\"Metric Value\",\n",
    "        yticks=0:0.05:1.0,\n",
    "        title=\"Random Forest Classification Fold-wise Metrics\",\n",
    "        legend=:outertop,\n",
    "        size=(750, 500),\n",
    "        guidefontsize=10,\n",
    "        tickfontsize=10,\n",
    "        dpi=300\n",
    "    )\n",
    "\n",
    "    savefig(\"figures/$(nfolds)_grouped_metrics_random_forest_$(label_type)_15x15.png\")\n",
    "end"
   ]
  },
  {
   "cell_type": "code",
   "execution_count": 22,
   "id": "13f5e75a",
   "metadata": {},
   "outputs": [
    {
     "data": {
      "text/plain": [
       "evaluate_and_save_random_forest (generic function with 1 method)"
      ]
     },
     "metadata": {},
     "output_type": "display_data"
    }
   ],
   "source": [
    "# Permutation test saver for random forest classifiers\n",
    "\n",
    "function evaluate_and_save_random_forest(\n",
    "    X_df,\n",
    "    y_binary,\n",
    "    y_tri,\n",
    "    y_quad,\n",
    "    y_penta;\n",
    "    n_perm::Int = 500,\n",
    "    outpath::AbstractString = \"evaluation_results.csv\"\n",
    ")\n",
    "    # Load the logistic classifier once\n",
    "    LogisticClassifier = @load LogisticClassifier pkg = MLJLinearModels\n",
    "\n",
    "    folds = [3, 4, 5]\n",
    "    y_list = [y_binary, y_tri, y_quad, y_penta]\n",
    "    labels = [\"binary\", \"tri\", \"quad\", \"penta\"]\n",
    "\n",
    "    # Prepare an empty DataFrame to collect all results\n",
    "    results = DataFrame(\n",
    "        fold                     = Int[],\n",
    "        target                   = String[],\n",
    "        eval_result              = Any[],\n",
    "        perm_p_value             = Float64[],\n",
    "        perm_observed_accuracy   = Float64[],\n",
    "        perm_null_mean_accuracy  = Float64[],\n",
    "    )\n",
    "\n",
    "    for fold in folds\n",
    "        for (y, label) in zip(y_list, labels)\n",
    "            # 1) Run the k‐fold evaluation\n",
    "            eval_res = evaluate_random_forest_model(X_df, y, fold, label)\n",
    "\n",
    "            # 2) Run the permutation test on this same target\n",
    "            p_val, acc_obs, acc_null = permutation_test_classifier(\n",
    "                X_df,\n",
    "                y,\n",
    "                LogisticClassifier(); \n",
    "                n_perm = n_perm\n",
    "            )\n",
    "\n",
    "            null_mean = mean(acc_null)\n",
    "\n",
    "            # 3) Append a row to the DataFrame\n",
    "            push!(\n",
    "                results,\n",
    "                (\n",
    "                    fold,\n",
    "                    label,\n",
    "                    eval_res,\n",
    "                    p_val,\n",
    "                    acc_obs,\n",
    "                    null_mean,\n",
    "                )\n",
    "            )\n",
    "        end\n",
    "    end\n",
    "\n",
    "    # 4) Write to CSV\n",
    "    CSV.write(outpath, results)\n",
    "\n",
    "    return results\n",
    "end\n"
   ]
  },
  {
   "cell_type": "code",
   "execution_count": 23,
   "id": "bebbdf1a",
   "metadata": {},
   "outputs": [
    {
     "name": "stderr",
     "output_type": "stream",
     "text": [
      "┌ Info: For silent loading, specify `verbosity=0`. \n",
      "└ @ Main /Users/ricobenning/.julia/packages/MLJModels/nxeCf/src/loading.jl:159\n"
     ]
    },
    {
     "name": "stdout",
     "output_type": "stream",
     "text": [
      "import MLJLinearModels ✔\n",
      "import MLJScikitLearnInterface ✔\n"
     ]
    },
    {
     "name": "stderr",
     "output_type": "stream",
     "text": [
      "┌ Info: For silent loading, specify `verbosity=0`. \n",
      "└ @ Main /Users/ricobenning/.julia/packages/MLJModels/nxeCf/src/loading.jl:159\n",
      "\u001b[32mPermutation test… 100%|██████████████████████████████████| Time: 0:00:01\u001b[39m\u001b[K\n"
     ]
    },
    {
     "name": "stdout",
     "output_type": "stream",
     "text": [
      "import MLJScikitLearnInterface ✔\n"
     ]
    },
    {
     "name": "stderr",
     "output_type": "stream",
     "text": [
      "┌ Info: For silent loading, specify `verbosity=0`. \n",
      "└ @ Main /Users/ricobenning/.julia/packages/MLJModels/nxeCf/src/loading.jl:159\n",
      "\u001b[32mPermutation test… 100%|██████████████████████████████████| Time: 0:00:02\u001b[39m\u001b[K\n"
     ]
    },
    {
     "name": "stdout",
     "output_type": "stream",
     "text": [
      "import MLJScikitLearnInterface ✔\n"
     ]
    },
    {
     "name": "stderr",
     "output_type": "stream",
     "text": [
      "┌ Info: For silent loading, specify `verbosity=0`. \n",
      "└ @ Main /Users/ricobenning/.julia/packages/MLJModels/nxeCf/src/loading.jl:159\n",
      "\u001b[32mPermutation test… 100%|██████████████████████████████████| Time: 0:00:03\u001b[39m\u001b[K\n"
     ]
    },
    {
     "name": "stdout",
     "output_type": "stream",
     "text": [
      "import MLJScikitLearnInterface ✔\n"
     ]
    },
    {
     "name": "stderr",
     "output_type": "stream",
     "text": [
      "┌ Info: For silent loading, specify `verbosity=0`. \n",
      "└ @ Main /Users/ricobenning/.julia/packages/MLJModels/nxeCf/src/loading.jl:159\n",
      "\u001b[32mPermutation test… 100%|██████████████████████████████████| Time: 0:00:03\u001b[39m\u001b[K\n"
     ]
    },
    {
     "name": "stdout",
     "output_type": "stream",
     "text": [
      "import MLJScikitLearnInterface ✔\n"
     ]
    },
    {
     "name": "stderr",
     "output_type": "stream",
     "text": [
      "┌ Info: For silent loading, specify `verbosity=0`. \n",
      "└ @ Main /Users/ricobenning/.julia/packages/MLJModels/nxeCf/src/loading.jl:159\n",
      "\u001b[32mPermutation test… 100%|██████████████████████████████████| Time: 0:00:01\u001b[39m\u001b[K\n"
     ]
    },
    {
     "name": "stdout",
     "output_type": "stream",
     "text": [
      "import MLJScikitLearnInterface ✔\n"
     ]
    },
    {
     "name": "stderr",
     "output_type": "stream",
     "text": [
      "┌ Info: For silent loading, specify `verbosity=0`. \n",
      "└ @ Main /Users/ricobenning/.julia/packages/MLJModels/nxeCf/src/loading.jl:159\n",
      "\u001b[32mPermutation test… 100%|██████████████████████████████████| Time: 0:00:02\u001b[39m\u001b[K\n"
     ]
    },
    {
     "name": "stdout",
     "output_type": "stream",
     "text": [
      "import MLJScikitLearnInterface ✔\n"
     ]
    },
    {
     "name": "stderr",
     "output_type": "stream",
     "text": [
      "┌ Info: For silent loading, specify `verbosity=0`. \n",
      "└ @ Main /Users/ricobenning/.julia/packages/MLJModels/nxeCf/src/loading.jl:159\n",
      "\u001b[32mPermutation test… 100%|██████████████████████████████████| Time: 0:00:02\u001b[39m\u001b[K\n"
     ]
    },
    {
     "name": "stdout",
     "output_type": "stream",
     "text": [
      "import MLJScikitLearnInterface ✔\n"
     ]
    },
    {
     "name": "stderr",
     "output_type": "stream",
     "text": [
      "┌ Info: For silent loading, specify `verbosity=0`. \n",
      "└ @ Main /Users/ricobenning/.julia/packages/MLJModels/nxeCf/src/loading.jl:159\n",
      "\u001b[32mPermutation test… 100%|██████████████████████████████████| Time: 0:00:03\u001b[39m\u001b[K\n"
     ]
    },
    {
     "name": "stdout",
     "output_type": "stream",
     "text": [
      "import MLJScikitLearnInterface ✔\n"
     ]
    },
    {
     "name": "stderr",
     "output_type": "stream",
     "text": [
      "┌ Info: For silent loading, specify `verbosity=0`. \n",
      "└ @ Main /Users/ricobenning/.julia/packages/MLJModels/nxeCf/src/loading.jl:159\n",
      "\u001b[32mPermutation test… 100%|██████████████████████████████████| Time: 0:00:01\u001b[39m\u001b[K\n"
     ]
    },
    {
     "name": "stdout",
     "output_type": "stream",
     "text": [
      "import MLJScikitLearnInterface ✔\n"
     ]
    },
    {
     "name": "stderr",
     "output_type": "stream",
     "text": [
      "┌ Info: For silent loading, specify `verbosity=0`. \n",
      "└ @ Main /Users/ricobenning/.julia/packages/MLJModels/nxeCf/src/loading.jl:159\n",
      "\u001b[32mPermutation test… 100%|██████████████████████████████████| Time: 0:00:02\u001b[39m\u001b[K\n"
     ]
    },
    {
     "name": "stdout",
     "output_type": "stream",
     "text": [
      "import MLJScikitLearnInterface ✔\n"
     ]
    },
    {
     "name": "stderr",
     "output_type": "stream",
     "text": [
      "┌ Info: For silent loading, specify `verbosity=0`. \n",
      "└ @ Main /Users/ricobenning/.julia/packages/MLJModels/nxeCf/src/loading.jl:159\n",
      "\u001b[32mPermutation test… 100%|██████████████████████████████████| Time: 0:00:02\u001b[39m\u001b[K\n"
     ]
    },
    {
     "name": "stdout",
     "output_type": "stream",
     "text": [
      "import MLJScikitLearnInterface ✔\n"
     ]
    },
    {
     "name": "stderr",
     "output_type": "stream",
     "text": [
      "┌ Info: For silent loading, specify `verbosity=0`. \n",
      "└ @ Main /Users/ricobenning/.julia/packages/MLJModels/nxeCf/src/loading.jl:159\n",
      "\u001b[32mPermutation test… 100%|██████████████████████████████████| Time: 0:00:03\u001b[39m\u001b[K\n"
     ]
    },
    {
     "data": {
      "text/html": [
       "<div><div style = \"float: left;\"><span>12×6 DataFrame</span></div><div style = \"clear: both;\"></div></div><div class = \"data-frame\" style = \"overflow-x: scroll;\"><table class = \"data-frame\" style = \"margin-bottom: 6px;\"><thead><tr class = \"header\"><th class = \"rowNumber\" style = \"font-weight: bold; text-align: right;\">Row</th><th style = \"text-align: left;\">fold</th><th style = \"text-align: left;\">target</th><th style = \"text-align: left;\">eval_result</th><th style = \"text-align: left;\">perm_p_value</th><th style = \"text-align: left;\">perm_observed_accuracy</th><th style = \"text-align: left;\">perm_null_mean_accuracy</th></tr><tr class = \"subheader headerLastRow\"><th class = \"rowNumber\" style = \"font-weight: bold; text-align: right;\"></th><th title = \"Int64\" style = \"text-align: left;\">Int64</th><th title = \"String\" style = \"text-align: left;\">String</th><th title = \"Any\" style = \"text-align: left;\">Any</th><th title = \"Float64\" style = \"text-align: left;\">Float64</th><th title = \"Float64\" style = \"text-align: left;\">Float64</th><th title = \"Float64\" style = \"text-align: left;\">Float64</th></tr></thead><tbody><tr><td class = \"rowNumber\" style = \"font-weight: bold; text-align: right;\">1</td><td style = \"text-align: right;\">3</td><td style = \"text-align: left;\">binary</td><td style = \"text-align: left;\">/Users/ricobenning/Python_C_ML/Translational Neuromodeling/Project/Project_8/Classification_and_Regression_DCM/figures/3_grouped_metrics_random_forest_binary_15x15.png</td><td style = \"text-align: right;\">0.125749</td><td style = \"text-align: right;\">0.646667</td><td style = \"text-align: right;\">0.50324</td></tr><tr><td class = \"rowNumber\" style = \"font-weight: bold; text-align: right;\">2</td><td style = \"text-align: right;\">3</td><td style = \"text-align: left;\">tri</td><td style = \"text-align: left;\">/Users/ricobenning/Python_C_ML/Translational Neuromodeling/Project/Project_8/Classification_and_Regression_DCM/figures/3_grouped_metrics_random_forest_tri_15x15.png</td><td style = \"text-align: right;\">0.0538922</td><td style = \"text-align: right;\">0.54</td><td style = \"text-align: right;\">0.358853</td></tr><tr><td class = \"rowNumber\" style = \"font-weight: bold; text-align: right;\">3</td><td style = \"text-align: right;\">3</td><td style = \"text-align: left;\">quad</td><td style = \"text-align: left;\">/Users/ricobenning/Python_C_ML/Translational Neuromodeling/Project/Project_8/Classification_and_Regression_DCM/figures/3_grouped_metrics_random_forest_quad_15x15.png</td><td style = \"text-align: right;\">0.43513</td><td style = \"text-align: right;\">0.34</td><td style = \"text-align: right;\">0.312227</td></tr><tr><td class = \"rowNumber\" style = \"font-weight: bold; text-align: right;\">4</td><td style = \"text-align: right;\">3</td><td style = \"text-align: left;\">penta</td><td style = \"text-align: left;\">/Users/ricobenning/Python_C_ML/Translational Neuromodeling/Project/Project_8/Classification_and_Regression_DCM/figures/3_grouped_metrics_random_forest_penta_15x15.png</td><td style = \"text-align: right;\">0.141717</td><td style = \"text-align: right;\">0.346667</td><td style = \"text-align: right;\">0.240467</td></tr><tr><td class = \"rowNumber\" style = \"font-weight: bold; text-align: right;\">5</td><td style = \"text-align: right;\">4</td><td style = \"text-align: left;\">binary</td><td style = \"text-align: left;\">/Users/ricobenning/Python_C_ML/Translational Neuromodeling/Project/Project_8/Classification_and_Regression_DCM/figures/4_grouped_metrics_random_forest_binary_15x15.png</td><td style = \"text-align: right;\">0.518962</td><td style = \"text-align: right;\">0.506667</td><td style = \"text-align: right;\">0.507133</td></tr><tr><td class = \"rowNumber\" style = \"font-weight: bold; text-align: right;\">6</td><td style = \"text-align: right;\">4</td><td style = \"text-align: left;\">tri</td><td style = \"text-align: left;\">/Users/ricobenning/Python_C_ML/Translational Neuromodeling/Project/Project_8/Classification_and_Regression_DCM/figures/4_grouped_metrics_random_forest_tri_15x15.png</td><td style = \"text-align: right;\">0.357285</td><td style = \"text-align: right;\">0.386667</td><td style = \"text-align: right;\">0.353933</td></tr><tr><td class = \"rowNumber\" style = \"font-weight: bold; text-align: right;\">7</td><td style = \"text-align: right;\">4</td><td style = \"text-align: left;\">quad</td><td style = \"text-align: left;\">/Users/ricobenning/Python_C_ML/Translational Neuromodeling/Project/Project_8/Classification_and_Regression_DCM/figures/4_grouped_metrics_random_forest_quad_15x15.png</td><td style = \"text-align: right;\">0.273453</td><td style = \"text-align: right;\">0.386667</td><td style = \"text-align: right;\">0.313653</td></tr><tr><td class = \"rowNumber\" style = \"font-weight: bold; text-align: right;\">8</td><td style = \"text-align: right;\">4</td><td style = \"text-align: left;\">penta</td><td style = \"text-align: left;\">/Users/ricobenning/Python_C_ML/Translational Neuromodeling/Project/Project_8/Classification_and_Regression_DCM/figures/4_grouped_metrics_random_forest_penta_15x15.png</td><td style = \"text-align: right;\">0.0179641</td><td style = \"text-align: right;\">0.453333</td><td style = \"text-align: right;\">0.23268</td></tr><tr><td class = \"rowNumber\" style = \"font-weight: bold; text-align: right;\">9</td><td style = \"text-align: right;\">5</td><td style = \"text-align: left;\">binary</td><td style = \"text-align: left;\">/Users/ricobenning/Python_C_ML/Translational Neuromodeling/Project/Project_8/Classification_and_Regression_DCM/figures/5_grouped_metrics_random_forest_binary_15x15.png</td><td style = \"text-align: right;\">0.55489</td><td style = \"text-align: right;\">0.493333</td><td style = \"text-align: right;\">0.499813</td></tr><tr><td class = \"rowNumber\" style = \"font-weight: bold; text-align: right;\">10</td><td style = \"text-align: right;\">5</td><td style = \"text-align: left;\">tri</td><td style = \"text-align: left;\">/Users/ricobenning/Python_C_ML/Translational Neuromodeling/Project/Project_8/Classification_and_Regression_DCM/figures/5_grouped_metrics_random_forest_tri_15x15.png</td><td style = \"text-align: right;\">0.0558882</td><td style = \"text-align: right;\">0.546667</td><td style = \"text-align: right;\">0.36532</td></tr><tr><td class = \"rowNumber\" style = \"font-weight: bold; text-align: right;\">11</td><td style = \"text-align: right;\">5</td><td style = \"text-align: left;\">quad</td><td style = \"text-align: left;\">/Users/ricobenning/Python_C_ML/Translational Neuromodeling/Project/Project_8/Classification_and_Regression_DCM/figures/5_grouped_metrics_random_forest_quad_15x15.png</td><td style = \"text-align: right;\">0.0379242</td><td style = \"text-align: right;\">0.5</td><td style = \"text-align: right;\">0.32196</td></tr><tr><td class = \"rowNumber\" style = \"font-weight: bold; text-align: right;\">12</td><td style = \"text-align: right;\">5</td><td style = \"text-align: left;\">penta</td><td style = \"text-align: left;\">/Users/ricobenning/Python_C_ML/Translational Neuromodeling/Project/Project_8/Classification_and_Regression_DCM/figures/5_grouped_metrics_random_forest_penta_15x15.png</td><td style = \"text-align: right;\">0.285429</td><td style = \"text-align: right;\">0.306667</td><td style = \"text-align: right;\">0.238693</td></tr></tbody></table></div>"
      ],
      "text/latex": [
       "\\begin{tabular}{r|cccc}\n",
       "\t& fold & target & eval\\_result & \\\\\n",
       "\t\\hline\n",
       "\t& Int64 & String & Any & \\\\\n",
       "\t\\hline\n",
       "\t1 & 3 & binary & /Users/ricobenning/Python\\_C\\_ML/Translational Neuromodeling/Project/Project\\_8/Classification\\_and\\_Regression\\_DCM/figures/3\\_grouped\\_metrics\\_random\\_forest\\_binary\\_15x15.png & $\\dots$ \\\\\n",
       "\t2 & 3 & tri & /Users/ricobenning/Python\\_C\\_ML/Translational Neuromodeling/Project/Project\\_8/Classification\\_and\\_Regression\\_DCM/figures/3\\_grouped\\_metrics\\_random\\_forest\\_tri\\_15x15.png & $\\dots$ \\\\\n",
       "\t3 & 3 & quad & /Users/ricobenning/Python\\_C\\_ML/Translational Neuromodeling/Project/Project\\_8/Classification\\_and\\_Regression\\_DCM/figures/3\\_grouped\\_metrics\\_random\\_forest\\_quad\\_15x15.png & $\\dots$ \\\\\n",
       "\t4 & 3 & penta & /Users/ricobenning/Python\\_C\\_ML/Translational Neuromodeling/Project/Project\\_8/Classification\\_and\\_Regression\\_DCM/figures/3\\_grouped\\_metrics\\_random\\_forest\\_penta\\_15x15.png & $\\dots$ \\\\\n",
       "\t5 & 4 & binary & /Users/ricobenning/Python\\_C\\_ML/Translational Neuromodeling/Project/Project\\_8/Classification\\_and\\_Regression\\_DCM/figures/4\\_grouped\\_metrics\\_random\\_forest\\_binary\\_15x15.png & $\\dots$ \\\\\n",
       "\t6 & 4 & tri & /Users/ricobenning/Python\\_C\\_ML/Translational Neuromodeling/Project/Project\\_8/Classification\\_and\\_Regression\\_DCM/figures/4\\_grouped\\_metrics\\_random\\_forest\\_tri\\_15x15.png & $\\dots$ \\\\\n",
       "\t7 & 4 & quad & /Users/ricobenning/Python\\_C\\_ML/Translational Neuromodeling/Project/Project\\_8/Classification\\_and\\_Regression\\_DCM/figures/4\\_grouped\\_metrics\\_random\\_forest\\_quad\\_15x15.png & $\\dots$ \\\\\n",
       "\t8 & 4 & penta & /Users/ricobenning/Python\\_C\\_ML/Translational Neuromodeling/Project/Project\\_8/Classification\\_and\\_Regression\\_DCM/figures/4\\_grouped\\_metrics\\_random\\_forest\\_penta\\_15x15.png & $\\dots$ \\\\\n",
       "\t9 & 5 & binary & /Users/ricobenning/Python\\_C\\_ML/Translational Neuromodeling/Project/Project\\_8/Classification\\_and\\_Regression\\_DCM/figures/5\\_grouped\\_metrics\\_random\\_forest\\_binary\\_15x15.png & $\\dots$ \\\\\n",
       "\t10 & 5 & tri & /Users/ricobenning/Python\\_C\\_ML/Translational Neuromodeling/Project/Project\\_8/Classification\\_and\\_Regression\\_DCM/figures/5\\_grouped\\_metrics\\_random\\_forest\\_tri\\_15x15.png & $\\dots$ \\\\\n",
       "\t11 & 5 & quad & /Users/ricobenning/Python\\_C\\_ML/Translational Neuromodeling/Project/Project\\_8/Classification\\_and\\_Regression\\_DCM/figures/5\\_grouped\\_metrics\\_random\\_forest\\_quad\\_15x15.png & $\\dots$ \\\\\n",
       "\t12 & 5 & penta & /Users/ricobenning/Python\\_C\\_ML/Translational Neuromodeling/Project/Project\\_8/Classification\\_and\\_Regression\\_DCM/figures/5\\_grouped\\_metrics\\_random\\_forest\\_penta\\_15x15.png & $\\dots$ \\\\\n",
       "\\end{tabular}\n"
      ],
      "text/plain": [
       "\u001b[1m12×6 DataFrame\u001b[0m\n",
       "\u001b[1m Row \u001b[0m│\u001b[1m fold  \u001b[0m\u001b[1m target \u001b[0m\u001b[1m eval_result                       \u001b[0m\u001b[1m perm_p_value \u001b[0m\u001b[1m perm_ob\u001b[0m ⋯\n",
       "     │\u001b[90m Int64 \u001b[0m\u001b[90m String \u001b[0m\u001b[90m Any                               \u001b[0m\u001b[90m Float64      \u001b[0m\u001b[90m Float64\u001b[0m ⋯\n",
       "─────┼──────────────────────────────────────────────────────────────────────────\n",
       "   1 │     3  binary  /Users/ricobenning/Python_C_ML/T…     0.125749           ⋯\n",
       "   2 │     3  tri     /Users/ricobenning/Python_C_ML/T…     0.0538922\n",
       "   3 │     3  quad    /Users/ricobenning/Python_C_ML/T…     0.43513\n",
       "   4 │     3  penta   /Users/ricobenning/Python_C_ML/T…     0.141717\n",
       "   5 │     4  binary  /Users/ricobenning/Python_C_ML/T…     0.518962           ⋯\n",
       "   6 │     4  tri     /Users/ricobenning/Python_C_ML/T…     0.357285\n",
       "   7 │     4  quad    /Users/ricobenning/Python_C_ML/T…     0.273453\n",
       "   8 │     4  penta   /Users/ricobenning/Python_C_ML/T…     0.0179641\n",
       "   9 │     5  binary  /Users/ricobenning/Python_C_ML/T…     0.55489            ⋯\n",
       "  10 │     5  tri     /Users/ricobenning/Python_C_ML/T…     0.0558882\n",
       "  11 │     5  quad    /Users/ricobenning/Python_C_ML/T…     0.0379242\n",
       "  12 │     5  penta   /Users/ricobenning/Python_C_ML/T…     0.285429\n",
       "\u001b[36m                                                               2 columns omitted\u001b[0m"
      ]
     },
     "metadata": {},
     "output_type": "display_data"
    }
   ],
   "source": [
    "df = evaluate_and_save_random_forest(\n",
    "    X_df, y_binary, y_tri, y_quad, y_penta;\n",
    "    n_perm = 500,\n",
    "    outpath = \"15x15_evaluation_results_random_forest.csv\"\n",
    ")"
   ]
  },
  {
   "cell_type": "code",
   "execution_count": 21,
   "id": "0322cbfc-4264-4c24-b0e3-d58f519b2ae7",
   "metadata": {},
   "outputs": [],
   "source": [
    "# #Evaluate random forest model classifier for 3 fold cross validation\n",
    "# evaluate_random_forest_model(X_df, y_binary, 3, \"binary\")\n",
    "# evaluate_random_forest_model(X_df, y_tri, 3, \"tri\")\n",
    "# evaluate_random_forest_model(X_df, y_quad, 3, \"quad\")\n",
    "# evaluate_random_forest_model(X_df, y_penta, 3, \"penta\")\n",
    "\n",
    "# #Evaluate random forest model classifier for 4 fold cross validation\n",
    "# evaluate_random_forest_model(X_df, y_binary, 4, \"binary\")\n",
    "# evaluate_random_forest_model(X_df, y_tri, 4, \"tri\")\n",
    "# evaluate_random_forest_model(X_df, y_quad, 4, \"quad\")\n",
    "# evaluate_random_forest_model(X_df, y_penta, 4, \"penta\")\n",
    "\n",
    "# #Evaluate random forest model classifier for 5 fold cross validation\n",
    "# evaluate_random_forest_model(X_df, y_binary, 5, \"binary\")\n",
    "# evaluate_random_forest_model(X_df, y_tri, 5, \"tri\")\n",
    "# evaluate_random_forest_model(X_df, y_quad, 5, \"quad\")\n",
    "# evaluate_random_forest_model(X_df, y_penta, 5, \"penta\")"
   ]
  },
  {
   "cell_type": "code",
   "execution_count": null,
   "id": "7758a5f1-0f36-43fb-98cb-57477ae49873",
   "metadata": {},
   "outputs": [],
   "source": []
  }
 ],
 "metadata": {
  "kernelspec": {
   "display_name": "Julia 1.11.4",
   "language": "julia",
   "name": "julia-1.11"
  },
  "language_info": {
   "file_extension": ".jl",
   "mimetype": "application/julia",
   "name": "julia",
   "version": "1.11.4"
  }
 },
 "nbformat": 4,
 "nbformat_minor": 5
}
